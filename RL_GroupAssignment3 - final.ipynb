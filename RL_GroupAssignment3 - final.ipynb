{
 "cells": [
  {
   "cell_type": "markdown",
   "id": "278fb03b",
   "metadata": {},
   "source": [
    "# Reinforcement Learning 2022-23: Assignment 3\n",
    "\n",
    "**Deadline**: Mon 13 March 2023, 23:59\n"
   ]
  },
  {
   "cell_type": "markdown",
   "id": "7038016f",
   "metadata": {},
   "source": [
    "## Taxi Problem\n",
    "\n",
    "In this assignment, you will solve the taxi problem for the following map:\n",
    "\n",
    "````\n",
    "        +---------+\n",
    "        |R: | : :G|\n",
    "        | : | : : |\n",
    "        | : : : : |\n",
    "        | | : | : |\n",
    "        |Y| : |B: |\n",
    "        +---------+\n",
    "````\n",
    "\n",
    "There are four designated locations in the grid world indicated by R(ed), G(reen), Y(ellow), and B(lue). When the episode starts, the taxi starts off at a random square and the passenger is at a random location. The taxi drives to the passenger's location, picks up the passenger, drives to the passenger's destination (another one of the four specified locations), and then drops off the passenger. Once the passenger is dropped off, the episode ends. The rewards are:\n",
    "\n",
    "- -1 per step unless other reward is triggered.\n",
    "- +20 delivering passenger.\n",
    "- -10 executing \"pickup\" and \"drop-off\" actions illegally.\n",
    "\n",
    "If a navigation action would cause the taxi to hit a wall (solid borders in the map), the action is a no-op, and there is only the usual reward of −1."
   ]
  },
  {
   "cell_type": "code",
   "execution_count": 7,
   "id": "d7790545",
   "metadata": {},
   "outputs": [],
   "source": [
    "import numpy as np\n",
    "from collections import defaultdict\n",
    "import random\n",
    "from tqdm import tqdm"
   ]
  },
  {
   "cell_type": "markdown",
   "id": "445929eb",
   "metadata": {},
   "source": [
    "Let us import the ``TaxiEnv`` class from env_taxi.py and create an instance of the Taxi environment."
   ]
  },
  {
   "cell_type": "code",
   "execution_count": 8,
   "id": "d7b2038b",
   "metadata": {},
   "outputs": [],
   "source": [
    "from env_taxi import TaxiEnv\n",
    "env=TaxiEnv()"
   ]
  },
  {
   "cell_type": "markdown",
   "id": "9dc57b59",
   "metadata": {},
   "source": [
    "Then, we reset the environment:"
   ]
  },
  {
   "cell_type": "code",
   "execution_count": 9,
   "id": "0061c47a",
   "metadata": {},
   "outputs": [
    {
     "data": {
      "text/plain": [
       "(2, 3, 2, 1)"
      ]
     },
     "execution_count": 9,
     "metadata": {},
     "output_type": "execute_result"
    }
   ],
   "source": [
    "np.random.seed(100)\n",
    "env.reset()"
   ]
  },
  {
   "cell_type": "markdown",
   "id": "c38578e2",
   "metadata": {},
   "source": [
    "It returns four state variables:\n",
    "\n",
    "- Row index of the taxi (starting from 0 in Python)\n",
    "- Colum index of the taxi (starting from 0 in Python)\n",
    "- Passenger location (0-4): 0=R, 1=G, 2=Y, 3=B, 4=in taxi\n",
    "- Destination location (0-3): same encoding rule as that for passenger location but excluding the \"in taxi\" option."
   ]
  },
  {
   "cell_type": "markdown",
   "id": "ca07eb89",
   "metadata": {},
   "source": [
    "You can use the ``describe_state`` method of the Taxi instance to display the state variables without location encoding."
   ]
  },
  {
   "cell_type": "code",
   "execution_count": 10,
   "id": "476b9df9",
   "metadata": {},
   "outputs": [
    {
     "data": {
      "text/plain": [
       "{'Taxi Location': [2, 3], 'Passenger Location': 'Y', 'Destination Index': 'G'}"
      ]
     },
     "execution_count": 10,
     "metadata": {},
     "output_type": "execute_result"
    }
   ],
   "source": [
    "env.describe_state()"
   ]
  },
  {
   "cell_type": "markdown",
   "id": "0631251d",
   "metadata": {},
   "source": [
    "You can use the ``render`` method to visualize the state."
   ]
  },
  {
   "cell_type": "code",
   "execution_count": 11,
   "id": "0dcea605",
   "metadata": {},
   "outputs": [
    {
     "name": "stdout",
     "output_type": "stream",
     "text": [
      "+---------+\n",
      "|R: | : :\u001b[35mG\u001b[0m|\n",
      "| : | : : |\n",
      "| : : :\u001b[43m \u001b[0m: |\n",
      "| | : | : |\n",
      "|\u001b[34;1mY\u001b[0m| : |B: |\n",
      "+---------+\n",
      "\n"
     ]
    }
   ],
   "source": [
    "env.render()"
   ]
  },
  {
   "cell_type": "markdown",
   "id": "ffc91dd5",
   "metadata": {},
   "source": [
    "There are 6 discrete deterministic actions:\n",
    "- 'South': move south\n",
    "- 'West': move north\n",
    "- 'East': move east\n",
    "- 'West': move west\n",
    "- 'Pickup': pickup passenger\n",
    "- 'Dropoff': drop off passenger"
   ]
  },
  {
   "cell_type": "code",
   "execution_count": 12,
   "id": "9b11e4a9",
   "metadata": {},
   "outputs": [
    {
     "name": "stdout",
     "output_type": "stream",
     "text": [
      "['South', 'North', 'East', 'West', 'Pickup', 'Dropoff']\n"
     ]
    }
   ],
   "source": [
    "print(env.action_space)"
   ]
  },
  {
   "cell_type": "markdown",
   "id": "ca1e8b7a",
   "metadata": {},
   "source": [
    "Let us move one step to west:"
   ]
  },
  {
   "cell_type": "code",
   "execution_count": 13,
   "id": "2183f1d2",
   "metadata": {},
   "outputs": [
    {
     "data": {
      "text/plain": [
       "((2, 2, 2, 1), -1, False)"
      ]
     },
     "execution_count": 13,
     "metadata": {},
     "output_type": "execute_result"
    }
   ],
   "source": [
    "env.step('West')"
   ]
  },
  {
   "cell_type": "markdown",
   "id": "617623f7",
   "metadata": {},
   "source": [
    "The output is a 3-tuple: the new state (a list of 4 numbers), reward, and whether the episode is ended. "
   ]
  },
  {
   "cell_type": "markdown",
   "id": "fae20986",
   "metadata": {},
   "source": [
    "Let us visualize the new state. Note that the last action is shown at the bottom as well."
   ]
  },
  {
   "cell_type": "code",
   "execution_count": 14,
   "id": "c5f1935e",
   "metadata": {},
   "outputs": [
    {
     "name": "stdout",
     "output_type": "stream",
     "text": [
      "+---------+\n",
      "|R: | : :\u001b[35mG\u001b[0m|\n",
      "| : | : : |\n",
      "| : :\u001b[43m \u001b[0m: : |\n",
      "| | : | : |\n",
      "|\u001b[34;1mY\u001b[0m| : |B: |\n",
      "+---------+\n",
      "  (West)\n"
     ]
    }
   ],
   "source": [
    "env.render()"
   ]
  },
  {
   "cell_type": "markdown",
   "id": "87bf99c9",
   "metadata": {},
   "source": [
    "**Exercise 1** Complete the codes below to generate _one_ episode for the taxi driver who:\n",
    "- Picks up the passenger when the taxi is at the location of the passenger when they are not yet at the destination;\n",
    "- Drops off the passenger in the taxi when reaching the destination;\n",
    "- Moves randomly with equal probabilities when finding the passenger or when the passenger is in the taxi (but not yet at destination). \n",
    "\n",
    "Then print the sum of rewards for the taxi driver in your episode."
   ]
  },
  {
   "cell_type": "code",
   "execution_count": 15,
   "id": "137eb6ae",
   "metadata": {},
   "outputs": [
    {
     "name": "stdout",
     "output_type": "stream",
     "text": [
      "+---------+\n",
      "|R: | : :G|\n",
      "| : | : : |\n",
      "| : : :\u001b[43m \u001b[0m: |\n",
      "| | : | : |\n",
      "|\u001b[34;1mY\u001b[0m| : |\u001b[35mB\u001b[0m: |\n",
      "+---------+\n",
      "\n",
      "{'Taxi Location': [2, 3], 'Passenger Location': 'Y', 'Destination Index': 'B'}\n"
     ]
    }
   ],
   "source": [
    "state=env.reset(271) # The number 271 fixes the initial state. Do not change it.\n",
    "env.render()\n",
    "print(env.describe_state())"
   ]
  },
  {
   "cell_type": "markdown",
   "id": "a8f41335",
   "metadata": {},
   "source": [
    "Let us program the policy function for the taxi driver:"
   ]
  },
  {
   "cell_type": "code",
   "execution_count": 16,
   "id": "dd9e0d9c",
   "metadata": {},
   "outputs": [],
   "source": [
    "def naive_policy(state):\n",
    "    ## Start Coding Here\n",
    "    if (state[2]==4):\n",
    "        if np.array_equal(env.locs[state[3]], state[0:2]):\n",
    "            action = 'Dropoff'\n",
    "        else:\n",
    "            action = random.choice(['South', 'West', 'North', 'East'])\n",
    "    else:   \n",
    "        if np.array_equal(env.locs[state[2]], state[0:2]):\n",
    "            action = 'Pickup'\n",
    "        else:\n",
    "            action = random.choice(['South', 'West', 'North', 'East'])\n",
    "    ## End Coding Here\n",
    "    \n",
    "    return action"
   ]
  },
  {
   "cell_type": "code",
   "execution_count": 17,
   "id": "fcc60bb5",
   "metadata": {},
   "outputs": [
    {
     "name": "stdout",
     "output_type": "stream",
     "text": [
      "Help on function simulate_episode in module env_taxi:\n",
      "\n",
      "simulate_episode(env, policy, max_iter=inf)\n",
      "    Simulate a episode following a given policy\n",
      "    @param env: game environment\n",
      "    @param policy: policy (a dictionary or a function)\n",
      "    @return: resulting states, actions and rewards for the entire episode\n",
      "\n"
     ]
    }
   ],
   "source": [
    "# Import the simulate_episode function from env_taxi.py to help you simulate episode(s)\n",
    "from env_taxi import simulate_episode\n",
    "help(simulate_episode)"
   ]
  },
  {
   "cell_type": "code",
   "execution_count": 18,
   "id": "adb6203a",
   "metadata": {},
   "outputs": [
    {
     "name": "stdout",
     "output_type": "stream",
     "text": [
      "Return for this episode: -707\n"
     ]
    }
   ],
   "source": [
    "# Set the seed to make results reproducible\n",
    "np.random.seed(GroupNumber)\n",
    "\n",
    "states, actions, rewards = simulate_episode(env,naive_policy)\n",
    "\n",
    "# Save the sum of rewards in this variable G\n",
    "G=np.sum(rewards)\n",
    "\n",
    "\n",
    "# Print the return for this episode\n",
    "print(\"Return for this episode:\", G)"
   ]
  },
  {
   "cell_type": "markdown",
   "id": "c1fa1524",
   "metadata": {},
   "source": [
    "**Exercise 2** Following the steps below to investigate whether we can solve the optimal policy by using Monte Carlo Exploring Starts. If possible, complete the codes and save the optimal (greedy) policy as a dictionary/defaultdict object. Otherwise, comment on the issues you encounter. \n",
    "\n",
    "Follow the instructions below to complete the exercise."
   ]
  },
  {
   "cell_type": "code",
   "execution_count": 19,
   "id": "17fa4b89",
   "metadata": {},
   "outputs": [
    {
     "name": "stdout",
     "output_type": "stream",
     "text": [
      "Help on function simulate_episode_ES in module env_taxi:\n",
      "\n",
      "simulate_episode_ES(env, policy, max_iter=inf)\n",
      "    Simulate a episode with exploring starts\n",
      "    @param env: game environment\n",
      "    @param policy: policy (a dictionary or a function)\n",
      "    @param max_iter: maximum number of time steps\n",
      "    @return: resulting states, actions and rewards for the entire episode\n",
      "\n",
      "[(2, 4, 2, 3), (2, 4, 2, 3), (2, 4, 2, 3), (3, 4, 2, 3), (4, 4, 2, 3), (4, 4, 2, 3), (4, 3, 2, 3), (4, 3, 2, 3), (4, 3, 2, 3), (3, 3, 2, 3), (3, 3, 2, 3), (3, 4, 2, 3), (3, 3, 2, 3), (4, 3, 2, 3), (4, 3, 2, 3), (3, 3, 2, 3), (4, 3, 2, 3), (4, 3, 2, 3), (4, 3, 2, 3), (4, 3, 2, 3), (4, 4, 2, 3), (4, 4, 2, 3), (3, 4, 2, 3), (3, 4, 2, 3), (4, 4, 2, 3), (4, 4, 2, 3), (4, 4, 2, 3), (3, 4, 2, 3), (3, 4, 2, 3), (4, 4, 2, 3), (4, 4, 2, 3), (4, 4, 2, 3), (4, 4, 2, 3), (4, 4, 2, 3), (4, 4, 2, 3), (4, 4, 2, 3), (4, 4, 2, 3), (3, 4, 2, 3), (2, 4, 2, 3), (3, 4, 2, 3), (2, 4, 2, 3), (2, 4, 2, 3), (2, 4, 2, 3), (2, 4, 2, 3), (3, 4, 2, 3), (3, 4, 2, 3), (3, 3, 2, 3), (4, 3, 2, 3), (4, 3, 2, 3), (4, 3, 2, 3), (4, 3, 2, 3), (3, 3, 2, 3), (3, 4, 2, 3), (3, 3, 2, 3), (3, 4, 2, 3), (3, 3, 2, 3), (3, 4, 2, 3), (2, 4, 2, 3), (2, 4, 2, 3), (3, 4, 2, 3), (3, 4, 2, 3), (3, 3, 2, 3), (3, 4, 2, 3), (2, 4, 2, 3), (3, 4, 2, 3), (2, 4, 2, 3), (2, 3, 2, 3), (2, 4, 2, 3), (1, 4, 2, 3), (1, 4, 2, 3), (1, 3, 2, 3), (0, 3, 2, 3), (1, 3, 2, 3), (0, 3, 2, 3), (1, 3, 2, 3), (1, 4, 2, 3), (2, 4, 2, 3), (2, 3, 2, 3), (1, 3, 2, 3), (2, 3, 2, 3), (2, 4, 2, 3), (3, 4, 2, 3), (2, 4, 2, 3), (2, 4, 2, 3), (1, 4, 2, 3), (1, 3, 2, 3), (1, 4, 2, 3), (1, 4, 2, 3), (1, 4, 2, 3), (1, 4, 2, 3), (1, 4, 2, 3), (1, 4, 2, 3), (1, 4, 2, 3), (1, 4, 2, 3), (1, 4, 2, 3), (2, 4, 2, 3), (3, 4, 2, 3), (3, 4, 2, 3), (4, 4, 2, 3), (4, 4, 2, 3), (4, 3, 2, 3), (4, 3, 2, 3), (4, 3, 2, 3), (4, 4, 2, 3), (3, 4, 2, 3), (4, 4, 2, 3), (4, 4, 2, 3), (4, 4, 2, 3), (3, 4, 2, 3), (3, 3, 2, 3), (4, 3, 2, 3), (3, 3, 2, 3), (3, 4, 2, 3), (4, 4, 2, 3), (4, 4, 2, 3), (4, 3, 2, 3), (3, 3, 2, 3), (4, 3, 2, 3), (4, 4, 2, 3), (3, 4, 2, 3), (3, 3, 2, 3), (3, 3, 2, 3), (3, 4, 2, 3), (3, 3, 2, 3), (3, 4, 2, 3), (2, 4, 2, 3), (2, 4, 2, 3), (1, 4, 2, 3), (1, 4, 2, 3), (0, 4, 2, 3), (0, 4, 2, 3), (0, 4, 2, 3), (0, 3, 2, 3), (1, 3, 2, 3), (1, 4, 2, 3), (1, 4, 2, 3), (1, 4, 2, 3), (2, 4, 2, 3), (1, 4, 2, 3), (1, 3, 2, 3), (1, 4, 2, 3), (1, 4, 2, 3), (2, 4, 2, 3), (1, 4, 2, 3), (2, 4, 2, 3), (2, 4, 2, 3), (1, 4, 2, 3), (1, 3, 2, 3), (1, 4, 2, 3), (2, 4, 2, 3), (3, 4, 2, 3), (2, 4, 2, 3), (2, 3, 2, 3), (3, 3, 2, 3), (3, 4, 2, 3), (2, 4, 2, 3), (3, 4, 2, 3), (2, 4, 2, 3), (3, 4, 2, 3), (3, 3, 2, 3), (3, 4, 2, 3), (4, 4, 2, 3), (4, 3, 2, 3), (4, 3, 2, 3), (3, 3, 2, 3), (2, 3, 2, 3), (3, 3, 2, 3), (3, 4, 2, 3), (4, 4, 2, 3), (4, 4, 2, 3), (4, 3, 2, 3), (3, 3, 2, 3), (2, 3, 2, 3), (1, 3, 2, 3), (1, 2, 2, 3), (1, 2, 2, 3), (1, 3, 2, 3), (1, 4, 2, 3), (0, 4, 2, 3), (0, 4, 2, 3), (0, 4, 2, 3), (0, 4, 2, 3), (1, 4, 2, 3), (1, 4, 2, 3), (1, 4, 2, 3), (0, 4, 2, 3), (0, 4, 2, 3), (1, 4, 2, 3), (2, 4, 2, 3), (2, 3, 2, 3), (1, 3, 2, 3), (1, 2, 2, 3), (1, 2, 2, 3), (0, 2, 2, 3), (1, 2, 2, 3), (0, 2, 2, 3), (0, 3, 2, 3), (0, 4, 2, 3), (1, 4, 2, 3), (2, 4, 2, 3), (1, 4, 2, 3)] ['Pickup', 'East', 'South', 'South', 'East', 'West', 'West', 'South', 'North', 'West', 'East', 'West', 'South', 'West', 'North', 'South', 'West', 'West', 'West', 'East', 'East', 'North', 'East', 'South', 'East', 'East', 'North', 'East', 'South', 'East', 'South', 'South', 'South', 'South', 'East', 'South', 'North', 'North', 'South', 'North', 'East', 'East', 'East', 'South', 'East', 'West', 'South', 'South', 'South', 'South', 'North', 'East', 'West', 'East', 'West', 'East', 'North', 'East', 'South', 'East', 'West', 'East', 'North', 'South', 'North', 'West', 'East', 'North', 'East', 'West', 'North', 'South', 'North', 'South', 'East', 'South', 'West', 'North', 'South', 'East', 'South', 'North', 'East', 'North', 'West', 'East', 'East', 'East', 'East', 'East', 'East', 'East', 'East', 'East', 'South', 'South', 'East', 'South', 'East', 'West', 'West', 'South', 'East', 'North', 'South', 'East', 'South', 'North', 'West', 'South', 'North', 'East', 'South', 'South', 'West', 'North', 'South', 'East', 'North', 'West', 'West', 'East', 'West', 'East', 'North', 'East', 'North', 'East', 'North', 'East', 'East', 'West', 'South', 'East', 'East', 'East', 'South', 'North', 'West', 'East', 'East', 'South', 'North', 'South', 'East', 'North', 'West', 'East', 'South', 'South', 'North', 'West', 'South', 'East', 'North', 'South', 'North', 'South', 'West', 'East', 'South', 'West', 'West', 'North', 'North', 'South', 'East', 'South', 'South', 'West', 'North', 'North', 'North', 'West', 'West', 'East', 'East', 'North', 'East', 'East', 'East', 'South', 'East', 'East', 'North', 'East', 'South', 'South', 'West', 'North', 'West', 'West', 'North', 'South', 'North', 'East', 'East', 'South', 'South', 'North'] [-10, -1, -1, -1, -1, -1, -1, -1, -1, -1, -1, -1, -1, -1, -1, -1, -1, -1, -1, -1, -1, -1, -1, -1, -1, -1, -1, -1, -1, -1, -1, -1, -1, -1, -1, -1, -1, -1, -1, -1, -1, -1, -1, -1, -1, -1, -1, -1, -1, -1, -1, -1, -1, -1, -1, -1, -1, -1, -1, -1, -1, -1, -1, -1, -1, -1, -1, -1, -1, -1, -1, -1, -1, -1, -1, -1, -1, -1, -1, -1, -1, -1, -1, -1, -1, -1, -1, -1, -1, -1, -1, -1, -1, -1, -1, -1, -1, -1, -1, -1, -1, -1, -1, -1, -1, -1, -1, -1, -1, -1, -1, -1, -1, -1, -1, -1, -1, -1, -1, -1, -1, -1, -1, -1, -1, -1, -1, -1, -1, -1, -1, -1, -1, -1, -1, -1, -1, -1, -1, -1, -1, -1, -1, -1, -1, -1, -1, -1, -1, -1, -1, -1, -1, -1, -1, -1, -1, -1, -1, -1, -1, -1, -1, -1, -1, -1, -1, -1, -1, -1, -1, -1, -1, -1, -1, -1, -1, -1, -1, -1, -1, -1, -1, -1, -1, -1, -1, -1, -1, -1, -1, -1, -1, -1, -1, -1, -1, -1, -1, -1]\n"
     ]
    }
   ],
   "source": [
    "# We import the simulate_episode_ES function from env_taxi.py to simulate episodes with exploring starts\n",
    "from env_taxi import simulate_episode_ES\n",
    "help(simulate_episode_ES)\n",
    "\n",
    "\n",
    "# Let us try to simulate one episode with exploring start for the naive policy from Exercise 1\n",
    "# Print the states, actions and rewards for an episode (the first 200 steps only)\n",
    "np.random.seed(GroupNumber)\n",
    "states, actions, rewards=simulate_episode_ES(env, naive_policy, 200)\n",
    "print(states, actions, rewards)"
   ]
  },
  {
   "cell_type": "markdown",
   "id": "456983dd",
   "metadata": {},
   "source": [
    "If you can solve the optimal policy by using Monte Carlo Exploring Starts, write down your codes in the next cell and save the optimal (greedy) policy in the dictionary object ``pi_ES`` initialized below. Use no more than 50000 episodes. We will import the ``performance_evaluation`` function from env_taxi.py to evaluate your policy in new episodes (that terminate within 1000 time steps)."
   ]
  },
  {
   "cell_type": "code",
   "execution_count": 20,
   "id": "3e0227e2",
   "metadata": {},
   "outputs": [
    {
     "data": {
      "text/plain": [
       "200"
      ]
     },
     "execution_count": 20,
     "metadata": {},
     "output_type": "execute_result"
    }
   ],
   "source": [
    "pi_ES= defaultdict(lambda: np.random.choice(env.action_space))\n",
    "states_t, actions_t, rewards_t = simulate_episode_ES(env, pi_ES, 200)\n",
    "len(states_t[::-1][1:])"
   ]
  },
  {
   "cell_type": "code",
   "execution_count": 28,
   "id": "8ed337cd",
   "metadata": {},
   "outputs": [
    {
     "ename": "SyntaxError",
     "evalue": "invalid syntax (2711260697.py, line 21)",
     "output_type": "error",
     "traceback": [
      "\u001b[1;36m  Input \u001b[1;32mIn [28]\u001b[1;36m\u001b[0m\n\u001b[1;33m    if not(state_t)\u001b[0m\n\u001b[1;37m                   ^\u001b[0m\n\u001b[1;31mSyntaxError\u001b[0m\u001b[1;31m:\u001b[0m invalid syntax\n"
     ]
    }
   ],
   "source": [
    "# Save your greedy actions as the values of this dictionary, whose keys are the states\n",
    "pi_ES= defaultdict(lambda: np.random.choice(env.action_space))\n",
    "np.random.seed(GroupNumber)\n",
    "\n",
    "## Start Coding Here \n",
    "n_episode = 5000\n",
    "G = defaultdict(float)\n",
    "\n",
    "#initialization\n",
    "Q = defaultdict(lambda: dict(zip(env.action_space, np.zeros(len(env.action_space)))))\n",
    "\n",
    "for episode in tqdm(range(n_episode)):\n",
    "    \n",
    "    states_t, actions_t, rewards_t = simulate_episode_ES(env, pi_ES)\n",
    "    \n",
    "    # Calculate the returns for all state-action pairs in this episode\n",
    "    return_t = {}\n",
    "    G = 0\n",
    "    for state_t, action_t, reward_t in zip(states_t[::-1][1:], actions_t[::-1], rewards_t[::-1]):\n",
    "        G = gamma * g * reward_t\n",
    "        if not(state_t)\n",
    "        return_t[(state_t, action_t)] = G\n",
    "        \n",
    "     # Update the action-value estimate and policy\n",
    "        for state_action, return_t in G.items():\n",
    "    \n",
    "    \n",
    "\n",
    "\n",
    "## End Coding Here\n",
    "\n",
    "\n",
    "\n",
    "# We import the performance_evaluation function from env_taxi.py to evaluate your optimal policy\n",
    "from env_taxi import performance_evaluation\n",
    "performance_evaluation(env,pi_ES)"
   ]
  },
  {
   "cell_type": "markdown",
   "id": "7072b1ad",
   "metadata": {},
   "source": [
    "If you cannot solve the optimal policy by using Monte Carlo Exploring Starts, explain the issue(s) and why they cannot be addressed."
   ]
  },
  {
   "cell_type": "markdown",
   "id": "47e13e75",
   "metadata": {},
   "source": [
    "Answer: The Monte Carlo method is not applicable to this problem in such setting since certain policies enter infinite loops disabling us to check a final reward for an episode as it does not terminate. Unlike Blackjack, Taxi problem can have policies leading an infinite long episode and a simple example of that can be choosing action 'West' at each state. Therefore, we are not able to start MC with Exploring Starts with such variety of available policies."
   ]
  },
  {
   "cell_type": "markdown",
   "id": "b7862c52",
   "metadata": {},
   "source": [
    "**Exercise 3**:  Find the optimal policy by using Q-learning with 50000 episodes and the exploration probability $\\varepsilon=0.1$. Try two different values of the step-size parameter $\\alpha=0.4$ and $\\alpha=0.1$. Compare their performance in 10000 new episodes and comment on the similarities or/and differences. \n",
    "\n",
    "Follow the instructions below to complete the exercise."
   ]
  },
  {
   "cell_type": "code",
   "execution_count": 22,
   "id": "6eb387e3",
   "metadata": {},
   "outputs": [],
   "source": [
    "def gen_epsilon_greedy_policy(action_space, Q, epsilon):\n",
    "    \"\"\"\n",
    "    Generate epsilon greedy policy as a function\n",
    "    @param action_space: list of all actions\n",
    "    @param Q: the action values, Q[state] is a dictitonary\n",
    "    @param epsilon: value of epsilon\n",
    "    @return: epsilon-greedy policy as a function\n",
    "    \"\"\"\n",
    "    def epsilon_greedy_policy(state):\n",
    "        greedy_action=max(Q[state],key=Q[state].get)\n",
    "        random_action=np.random.choice(action_space)\n",
    "        # Starting Coding Here\n",
    "        return np.random.choice([random_action,greedy_action],p=[epsilon,1-epsilon])\n",
    "        # End Coding Here\n",
    "    \n",
    "    return epsilon_greedy_policy"
   ]
  },
  {
   "cell_type": "code",
   "execution_count": 23,
   "id": "11439d15",
   "metadata": {},
   "outputs": [
    {
     "name": "stderr",
     "output_type": "stream",
     "text": [
      "100%|███████████████████████████████████████████████████████████████████████████| 50000/50000 [01:04<00:00, 770.80it/s]\n",
      "100%|███████████████████████████████████████████████████████████████████████████| 50000/50000 [01:08<00:00, 734.28it/s]\n"
     ]
    }
   ],
   "source": [
    "np.random.seed(GroupNumber)\n",
    "\n",
    "## Start Coding Here: Find the optimal policy by using Q-learning with 50000 episodes\n",
    "\n",
    "def q_learning(env, gamma, n_episode, alpha, epsilon=0.1):\n",
    "    \"\"\"\n",
    "    Off-policy Q-learning\n",
    "    @param env: game environment\n",
    "    @param gamma: discount factor\n",
    "    @param n_episode: number of episodes\n",
    "    @param alpha: step-size parameter\n",
    "    @param epsilon: exploring probability\n",
    "    @return: the optimal Q-function, the optimal policy, length of episode and the sum of rewards per episode\n",
    "    \"\"\"   \n",
    "    Q = defaultdict(lambda: dict(zip(env.action_space, np.zeros(len(env.action_space)))))\n",
    "    epsilon_greedy_policy = gen_epsilon_greedy_policy(env.action_space, Q, epsilon)\n",
    "    \n",
    "    pi= defaultdict(lambda: np.random.choice(env.action_space))\n",
    "    \n",
    "    for episode in tqdm(range(n_episode)):\n",
    "        state = env.reset()\n",
    "        is_done = False\n",
    "        # Generate behavior using epsilon greedy policy\n",
    "        while not is_done:\n",
    "            action = epsilon_greedy_policy(state)\n",
    "            next_state, reward, is_done = env.step(action)\n",
    "            \n",
    "            v= max(Q[next_state].values())\n",
    "            td_delta = reward + gamma * v - Q[state][action]\n",
    "            Q[state][action] += alpha * td_delta\n",
    "            \n",
    "            # Update Target Policy\n",
    "            pi[state]=max(Q[state],key=Q[state].get)\n",
    "            \n",
    "            if is_done:\n",
    "                break\n",
    "            state = next_state\n",
    "    \n",
    "    return Q, pi\n",
    "            \n",
    "n_episode = 50000\n",
    "epsilon = 0.1\n",
    "gamma = 1\n",
    "\n",
    "# Save the policy for alpha=0.4 as a Python dictionary/defaultdic object pi_qlearning_1\n",
    "alpha = 0.4\n",
    "Q_qlearning_1, pi_qlearning_1 = q_learning(env, gamma, n_episode, alpha, epsilon)\n",
    "\n",
    "# Save the policy for alpha=0.1 as a Python dictionary/defaultdic object pi_qlearning_2\n",
    "alpha = 0.1\n",
    "Q_qlearning_2, pi_qlearning_2 = q_learning(env, gamma, n_episode, alpha, epsilon)\n",
    "\n",
    "\n",
    "\n",
    "## End Coding Here"
   ]
  },
  {
   "cell_type": "code",
   "execution_count": 29,
   "id": "30c89d5e",
   "metadata": {},
   "outputs": [
    {
     "name": "stdout",
     "output_type": "stream",
     "text": [
      "defaultdict(<function q_learning.<locals>.<lambda> at 0x00000185D9040A60>, {(2, 4, 2, 3): {'South': 3.908943437647326, 'North': 3.3949617553783855, 'East': 4.360707646266731, 'West': 5.999999999999969, 'Pickup': -4.3657830400000295, 'Dropoff': -4.178910032751499}, (3, 4, 2, 3): {'South': 1.3773622712870617, 'North': 4.336753121059448, 'East': 3.3699151200090283, 'West': 4.999999999999968, 'Pickup': -5.698945274579736, 'Dropoff': -6.249793493089751}, (4, 4, 2, 3): {'South': 2.6460162390621047, 'North': 3.9999999999999676, 'East': -9.662908653541294, 'West': -0.8792952430193437, 'Pickup': -8.736000000000015, 'Dropoff': -14.288826747127745}, (1, 4, 2, 3): {'South': 4.999999999999968, 'North': 0.32357412326435475, 'East': -0.7407107686400218, 'West': -3.4685170547107838, 'Pickup': -7.520045684095564, 'Dropoff': -8.361467514107579}, (2, 3, 2, 3): {'South': 4.999508148207604, 'North': 4.999890113610775, 'East': 4.999994411492221, 'West': 6.99999999999997, 'Pickup': -3.000042645491087, 'Dropoff': -3.000070090154239}, (3, 3, 2, 3): {'South': 3.9721123029996783, 'North': 5.999999999999969, 'East': 3.171671303087925, 'West': 4.998598059221749, 'Pickup': -4.022445535596356, 'Dropoff': -4.048372940825223}, (4, 3, 2, 3): {'South': -0.7520000000000211, 'North': 4.999999999999968, 'East': 0.2684822318144169, 'West': -0.7752512320945022, 'Pickup': -6.9918995054331825, 'Dropoff': -5.455980867427497}, (1, 3, 2, 3): {'South': 5.583973248243775, 'North': 3.9897722065452847, 'East': 3.806598931180115, 'West': 5.999999999999969, 'Pickup': -4.021361957767942, 'Dropoff': -4.005365948738169}, (0, 4, 2, 3): {'South': 1.0567903036919906, 'North': -1.6693980896114486, 'East': -1.625192388265157, 'West': 3.9999999999999676, 'Pickup': -7.2960000079753, 'Dropoff': -6.946022066941602}, (0, 3, 2, 3): {'South': 4.999999999999968, 'North': 2.966821442722634, 'East': -1.541025239490915, 'West': 3.1493451161226678, 'Pickup': -5.26687232000003, 'Dropoff': -5.499649732591408}, (2, 2, 2, 3): {'South': 5.999999997460696, 'North': 5.99999888314398, 'East': 5.999999947871116, 'West': 7.999999999999971, 'Pickup': -2.0000002865118294, 'Dropoff': -2.000000247615509}, (3, 2, 2, 3): {'South': 4.969047665508375, 'North': 6.967718159594017, 'East': 5.8601614651614184, 'West': 6.99999999999997, 'Pickup': -4.8552981381120235, 'Dropoff': -3.05038848000003}, (4, 2, 2, 3): {'South': 4.636081926481442, 'North': 5.999999999999969, 'East': 4.971701555082346, 'West': 3.8721319686439006, 'Pickup': -6.572492372289031, 'Dropoff': -4.350853120028008}, (4, 1, 2, 3): {'South': 2.3816110757802993, 'North': 1.5103730128836403, 'East': 4.999999999999968, 'West': -0.47281749750974633, 'Pickup': -5.6684888125324155, 'Dropoff': -5.326600850364796}, (3, 1, 2, 3): {'South': 3.662654024439115, 'North': 7.999999999999971, 'East': 5.916287981603781, 'West': 6.998476600649944, 'Pickup': -2.004701849846131, 'Dropoff': -2.058531258368029}, (1, 2, 2, 3): {'South': 6.99999999999997, 'North': 4.982319675538297, 'East': 4.999147126932599, 'West': 5.993103301473001, 'Pickup': -3.0108403712653504, 'Dropoff': -3.0699015520154203}, (0, 2, 2, 3): {'South': 5.999999999999969, 'North': -9.040000000000003, 'East': -0.6423658404337993, 'West': -3.520000000000014, 'Pickup': -9.548800000007114, 'Dropoff': -11.778469483436997}, (2, 1, 2, 3): {'South': 6.999999999999536, 'North': 6.999999999975875, 'East': 6.999999998945826, 'West': 8.999999999999972, 'Pickup': -1.0000000000001283, 'Dropoff': -1.000000000020397}, (1, 1, 2, 3): {'South': 7.999999999999971, 'North': 5.773885631394901, 'East': 6.350530029225723, 'West': 7.274751166610304, 'Pickup': -2.4913343231346947, 'Dropoff': -2.8523641185879303}, (2, 0, 2, 3): {'South': 9.999999999999973, 'North': 7.9999999999999485, 'East': 7.999999999999971, 'West': 8.999999999999961, 'Pickup': -2.7315205568280536e-14, 'Dropoff': -2.6645772278098302e-14}, (3, 0, 2, 3): {'South': 10.999999999999975, 'North': 8.999999999999972, 'East': 9.999999999999181, 'West': 9.999999999999973, 'Pickup': 0.9999999999999546, 'Dropoff': 0.999999999999975}, (4, 0, 2, 3): {'South': 10.999999999999975, 'North': 9.999999999999973, 'East': 10.999999999999975, 'West': 10.999999999999972, 'Pickup': 11.999999999999977, 'Dropoff': 1.9999999999999767}, (1, 0, 2, 3): {'South': 8.999999999999972, 'North': 5.119075040813001, 'East': 5.770903762792614, 'West': 2.416621016882557, 'Pickup': -1.1678145257212735, 'Dropoff': -1.0723878477984186}, (0, 1, 2, 3): {'South': 6.99999999999997, 'North': 4.137904191630942, 'East': 0.9202481012699111, 'West': 3.7230846661635186, 'Pickup': -4.308096008790067, 'Dropoff': -6.000000000000012}, (0, 0, 2, 3): {'South': 7.999999999999971, 'North': 1.6575999999999098, 'East': -2.3800494469214524, 'West': -1.961600000000013, 'Pickup': -2.248583168012733, 'Dropoff': -2.3839250725082857}, (4, 0, 4, 3): {'South': 11.999999999999977, 'North': 12.999999999999979, 'East': 11.999999999999977, 'West': 11.999999999999975, 'Pickup': 2.9999999999999782, 'Dropoff': 10.999999999999975}, (3, 0, 4, 3): {'South': 11.999999999999977, 'North': 13.99999999999998, 'East': 12.999999999999966, 'West': 12.999999999999972, 'Pickup': 3.9999999999999796, 'Dropoff': 3.99999999999998}, (2, 0, 4, 3): {'South': 12.999999999999979, 'North': 12.999999999999979, 'East': 14.999999999999982, 'West': 13.99999999999998, 'Pickup': 4.999999999999981, 'Dropoff': 4.999999999999981}, (1, 0, 4, 3): {'South': 13.99999999999998, 'North': 11.999999999999977, 'East': 13.999999999999954, 'West': 12.999999999999979, 'Pickup': 3.99999999999998, 'Dropoff': 3.9999999999998495}, (1, 1, 4, 3): {'South': 14.999999999999982, 'North': 12.44679617058732, 'East': 7.721599999999986, 'West': 10.864916001587183, 'Pickup': 2.447638720456744, 'Dropoff': 3.8335989390021306}, (2, 1, 4, 3): {'South': 13.99999999999998, 'North': 13.99999999999998, 'East': 15.999999999999984, 'West': 13.99999999999998, 'Pickup': 5.999999999999983, 'Dropoff': 5.999999999999983}, (3, 1, 4, 3): {'South': -2.4368384, 'North': 4.375910399999993, 'East': 14.999999999999982, 'West': 8.095999952219348, 'Pickup': 0.8383999999999889, 'Dropoff': 4.5800959999983}, (4, 1, 4, 3): {'South': -2.6399999999999997, 'North': 4.185703180414299, 'East': -2.4988416, 'West': -2.3744, 'Pickup': -7.0297600000000005, 'Dropoff': -4.0}, (0, 1, 4, 3): {'South': 13.999999999999972, 'North': 6.960828006390994, 'East': 9.247560556450747, 'West': 2.463185412095992, 'Pickup': 1.0352796130474795, 'Dropoff': -2.7314521466298887}, (0, 0, 4, 3): {'South': 12.999999999999979, 'North': 11.999999999999977, 'East': 12.999999999996152, 'West': 11.999999999999977, 'Pickup': 2.9999999999999782, 'Dropoff': 10.999999999999973}, (2, 2, 4, 3): {'South': 14.999999999999982, 'North': 14.999999999999982, 'East': 16.999999999999986, 'West': 14.999999999999982, 'Pickup': 6.999999999999985, 'Dropoff': 6.999999999999985}, (3, 2, 4, 3): {'South': 2.839304191999995, 'North': 15.999999999999984, 'East': 12.744959999999987, 'West': 11.858236620799985, 'Pickup': 5.825948402723953, 'Dropoff': 5.720063999999631}, (4, 2, 4, 3): {'South': -2.6399999999999997, 'North': 11.217496473599986, 'East': -0.282781696000002, 'West': -2.7151104, 'Pickup': -4.0, 'Dropoff': -4.0}, (1, 2, 4, 3): {'South': 15.999999999999984, 'North': 10.205245611282923, 'East': 14.622217215999987, 'West': 12.839446039875492, 'Pickup': 2.9207039999999873, 'Dropoff': 5.6484000041743645}, (2, 3, 4, 3): {'South': 17.99999999999999, 'North': 15.999999999999984, 'East': 15.999999999999984, 'West': 15.999999999999984, 'Pickup': 7.9999999999999885, 'Dropoff': 7.9999999999999885}, (3, 3, 4, 3): {'South': 18.999999999999993, 'North': 16.999999999999986, 'East': 16.999999999999986, 'West': 17.99999999999999, 'Pickup': 8.999999999999991, 'Dropoff': 8.999999999999991}, (4, 3, 4, 3): {'South': 18.999999999999993, 'North': 17.99999999999999, 'East': 17.99999999999999, 'West': 18.999999999999993, 'Pickup': 9.999999999999995, 'Dropoff': 19.999999999999996}, (1, 3, 4, 3): {'South': 16.999999999999986, 'North': 14.999999999999982, 'East': 14.999999999999982, 'West': 14.999999999999982, 'Pickup': 6.999999999999944, 'Dropoff': 6.999999999999944}, (2, 4, 4, 3): {'South': 16.48809780503678, 'North': 12.848263102463987, 'East': 15.893579175645309, 'West': 16.999999999999986, 'Pickup': 4.015743999999989, 'Dropoff': 3.039999999999991}, (3, 4, 4, 3): {'South': 15.544838904242585, 'North': 15.193037821878573, 'East': 13.068036269125844, 'West': 17.99999999999999, 'Pickup': 6.444799999999991, 'Dropoff': 2.7238399999635243}, (4, 4, 4, 3): {'South': 13.939199999999994, 'North': 13.155199999999994, 'East': 17.46671161662381, 'West': 18.999999999999993, 'Pickup': 7.315199999999994, 'Dropoff': 7.275437417998362}, (1, 4, 4, 3): {'South': 15.999999999999892, 'North': 13.999999999999885, 'East': 14.999999999999982, 'West': 15.999999999999984, 'Pickup': 5.999999999999983, 'Dropoff': 5.9999999999994955}, (0, 2, 4, 3): {'South': -1.87456, 'North': -1.6, 'East': 14.226699806904866, 'West': -1.6, 'Pickup': -4.0, 'Dropoff': -4.0}, (0, 3, 4, 3): {'South': 15.999999999999984, 'North': 12.848639989121324, 'East': 10.556773375999986, 'West': -1.9897600000000002, 'Pickup': 2.920597117816979, 'Dropoff': 3.6342253884037756}, (0, 4, 4, 3): {'South': 14.999999999999982, 'North': 13.99999999999998, 'East': 13.99999999999998, 'West': 14.999999999999982, 'Pickup': 4.999999999999981, 'Dropoff': 12.999999999999241}, (4, 3, 3, 3): {'South': 0.0, 'North': 0.0, 'East': 0.0, 'West': 0.0, 'Pickup': 0.0, 'Dropoff': 0.0}, (4, 1, 1, 2): {'South': 1.4707199998649505, 'North': 1.1774248104724678, 'East': 3.9999999999999676, 'West': -8.800000000000002, 'Pickup': -7.756725831236517, 'Dropoff': -8.96207307759067}, (3, 1, 1, 2): {'South': -4.086593425270993, 'North': 4.999999999999968, 'East': 2.8932239679930896, 'West': -8.967669837468224, 'Pickup': -11.445111268718676, 'Dropoff': -5.645097730983212}, (4, 2, 1, 2): {'South': 3.3913586835336864, 'North': 4.999999999999968, 'East': 1.2032473402216954, 'West': 2.797963310256501, 'Pickup': -5.006707060523767, 'Dropoff': -5.2882015779885005}, (3, 2, 1, 2): {'South': 3.7892590123263687, 'North': 5.999999999999969, 'East': 4.950077227005922, 'West': 3.9537084122971726, 'Pickup': -4.032099507513584, 'Dropoff': -4.080621568000031}, (2, 1, 1, 2): {'South': 3.9997752955414754, 'North': 3.999937478960431, 'East': 5.999999999999969, 'West': 3.999998917826843, 'Pickup': -4.000010057422577, 'Dropoff': -4.000085442116282}, (2, 2, 1, 2): {'South': 4.999999999354699, 'North': 6.99999999999997, 'East': 6.999999978450359, 'West': 4.999999913798682, 'Pickup': -3.00000000410406, 'Dropoff': -3.0000000359961336}, (1, 2, 1, 2): {'South': 5.99999999367603, 'North': 7.999999999999971, 'East': 7.999999987825623, 'West': 6.999999999879142, 'Pickup': -2.0000000139814658, 'Dropoff': -2.0000000882915057}, (2, 3, 1, 2): {'South': 4.954727392580704, 'North': 7.999999999999971, 'East': 7.9448005773763075, 'West': 5.996183808491522, 'Pickup': -2.038905467172109, 'Dropoff': -2.1679616000000284}, (3, 3, 1, 2): {'South': 4.785684707177629, 'North': 6.99999999999997, 'East': 6.612573803977872, 'West': 5.77382814057032, 'Pickup': -3.2332823114219797, 'Dropoff': -4.494720005516746}, (4, 3, 1, 2): {'South': 2.1733375999998703, 'North': 5.999999999999969, 'East': -2.318483921375596, 'West': 2.1919999999999753, 'Pickup': -5.439709341648692, 'Dropoff': -4.31269712453836}, (1, 3, 1, 2): {'South': 6.969844530124116, 'North': 8.992654937055864, 'East': 8.999999999999972, 'West': 6.360569005517954, 'Pickup': -1.000708786589349, 'Dropoff': -1.0040229664678904}, (2, 4, 1, 2): {'South': 6.949822228416556, 'North': 8.999999999999972, 'East': 7.851495069493146, 'West': 6.606577158662166, 'Pickup': -1.0589033297881731, 'Dropoff': -1.070543872000028}, (3, 4, 1, 2): {'South': 5.409245388194219, 'North': 7.999999999999971, 'East': 6.632848383432868, 'West': 5.999999999999616, 'Pickup': -2.32721622479656, 'Dropoff': -2.1013193717219183}, (4, 4, 1, 2): {'South': -7.737440944128002, 'North': 6.99999999999997, 'East': 0.8359148233521485, 'West': 3.295841022392994, 'Pickup': -4.270135955870581, 'Dropoff': -3.980278859415425}, (1, 4, 1, 2): {'South': 7.999958170302275, 'North': 9.999999999999973, 'East': 8.999997974853152, 'West': 7.999999903045177, 'Pickup': -8.368591711772464e-05, 'Dropoff': -0.00038781682953533395}, (1, 1, 1, 2): {'South': 4.999999999999968, 'North': 2.959377208947805, 'East': 3.9991734671785486, 'West': 2.9726114950197897, 'Pickup': -5.094115124977467, 'Dropoff': -5.001518693757516}, (2, 0, 1, 2): {'South': 2.9536330229842243, 'North': 2.8689830999517554, 'East': 4.999999999999968, 'West': 3.7702455338240215, 'Pickup': -5.759972120618432, 'Dropoff': -5.515529891108191}, (1, 0, 1, 2): {'South': 3.766010230378201, 'North': 0.43919294063823666, 'East': 3.9999999999999676, 'West': 2.3823274630298448, 'Pickup': -6.104923408419889, 'Dropoff': -6.331951451105895}, (3, 0, 1, 2): {'South': 1.6558847790425142, 'North': 3.9999999999999676, 'East': 1.9734338342441138, 'West': 2.865961256122236, 'Pickup': -6.04976089885989, 'Dropoff': -6.917808260149071}, (4, 0, 1, 2): {'South': -5.4400000000000155, 'North': 2.999999999999967, 'East': 1.413134704613919, 'West': 1.0236056186091838, 'Pickup': -9.751816998290533, 'Dropoff': -12.553600000000014}, (0, 2, 1, 2): {'South': 6.999999999663639, 'North': 7.99999999997396, 'East': 8.999999999999972, 'West': 7.999999998217579, 'Pickup': -1.000000001613886, 'Dropoff': -1.000000000157409}, (0, 3, 1, 2): {'South': 7.999999997525547, 'North': 8.999999999877236, 'East': 9.999999999999973, 'West': 7.999999999475435, 'Pickup': -8.315923446639431e-10, 'Dropoff': -1.4038571168540532e-09}, (0, 4, 1, 2): {'South': 8.999999999999972, 'North': 9.999999999999973, 'East': 9.999999999999973, 'West': 8.999999999999972, 'Pickup': 10.999999999999975, 'Dropoff': 0.9999999999999749}, (0, 1, 1, 2): {'South': 3.9999999999999676, 'North': 1.2772777670214668, 'East': 0.2012785113476383, 'West': 0.39967332445084125, 'Pickup': -9.600000000372933, 'Dropoff': -7.09414187788661}, (0, 0, 1, 2): {'South': 2.999999999999967, 'North': -5.402572468592327, 'East': -4.825280507503385, 'West': 0.3929599720107231, 'Pickup': -9.0152223461422, 'Dropoff': -10.000000000000012}, (0, 4, 4, 2): {'South': 11.999999999999517, 'North': 10.999999999999975, 'East': 10.999999999999526, 'West': 11.999999999999977, 'Pickup': 1.999999999999976, 'Dropoff': 9.999999999999973}, (1, 4, 4, 2): {'South': 12.999999999999979, 'North': 1.9284519399587747, 'East': -3.9999999999999996, 'West': 6.905242851048585, 'Pickup': -1.2000000000000082, 'Dropoff': -3.1304263587045646}, (2, 4, 4, 2): {'South': 9.960819843739625, 'North': 8.678024778356335, 'East': 9.414399999999985, 'West': 13.99999999999998, 'Pickup': -4.0, 'Dropoff': -0.7808708083712124}, (3, 4, 4, 2): {'South': 9.11347582706852, 'North': 9.453319970204051, 'East': 6.383999999999986, 'West': 12.999999999999979, 'Pickup': 0.27340908407722075, 'Dropoff': 1.4879999999999836}, (4, 4, 4, 2): {'South': 2.09459313271436, 'North': 11.999999999999932, 'East': -3.9999999999999996, 'West': 8.583158820569071, 'Pickup': -6.5600000000000005, 'Dropoff': 1.2200527904276899}, (0, 3, 4, 2): {'South': 12.999999999999979, 'North': 11.999999999999977, 'East': 10.999999999999975, 'West': 12.999999999999979, 'Pickup': 2.9999999999999782, 'Dropoff': 2.9999999999999782}, (1, 3, 4, 2): {'South': 13.99999999999998, 'North': 11.998393328215156, 'East': 11.998726804063114, 'West': 13.999364185461543, 'Pickup': 3.9937308668723004, 'Dropoff': 3.9895440132309408}, (2, 3, 4, 2): {'South': 12.999999999999979, 'North': 12.999999999999979, 'East': 12.999999999999979, 'West': 14.999999999999982, 'Pickup': 4.999999999999981, 'Dropoff': 4.999999999999981}, (3, 3, 4, 2): {'South': 11.999999999999977, 'North': 13.99999999999998, 'East': 11.999999999999961, 'West': 12.999999999999979, 'Pickup': 3.99999999999998, 'Dropoff': 3.99999999999998}, (4, 3, 4, 2): {'South': 11.999999999999975, 'North': 12.999999999999979, 'East': 10.999999999996609, 'West': 11.999999999999977, 'Pickup': 2.999999999999931, 'Dropoff': 10.999999999999975}, (2, 2, 4, 2): {'South': 13.99999999999998, 'North': 13.99999999999998, 'East': 13.99999999999998, 'West': 15.999999999999984, 'Pickup': 5.999999999999983, 'Dropoff': 5.999999999999983}, (3, 2, 4, 2): {'South': 2.4178347922182852, 'North': 4.518144983039994, 'East': 3.9814399999999934, 'West': 14.999999999999982, 'Pickup': 3.909407625431646, 'Dropoff': 2.6594736947145403}, (4, 2, 4, 2): {'South': -2.8, 'North': 10.391339409363704, 'East': -2.768256, 'West': -2.9778278400000002, 'Pickup': -7.2, 'Dropoff': -4.0}, (1, 2, 4, 2): {'South': 14.999999999999982, 'North': 12.999999999998487, 'East': 12.999999999999979, 'West': 13.999999999999943, 'Pickup': 4.999999999999981, 'Dropoff': 4.9999999999999805}, (4, 3, 3, 2): {'South': 10.999999999999975, 'North': 9.999999999999973, 'East': 9.999999999999964, 'West': 10.999999999999975, 'Pickup': 11.999999999999977, 'Dropoff': 1.9999999999999731}, (3, 3, 3, 2): {'South': 10.999999999999975, 'North': 8.999999999999972, 'East': 8.999999999999972, 'West': 9.999999999999716, 'Pickup': 0.999999999999975, 'Dropoff': 0.999999999999972}, (3, 4, 3, 2): {'South': 9.944443846337853, 'North': 7.730695399233216, 'East': 8.339037511679868, 'West': 9.999999999999973, 'Pickup': -0.05123957909640757, 'Dropoff': -0.32473594597599076}, (4, 4, 3, 2): {'South': 4.5279999999999845, 'North': 8.767229192322318, 'East': 9.744681687152003, 'West': 10.999999999999975, 'Pickup': 0.30304514331085464, 'Dropoff': -0.18287697157098792}, (2, 4, 3, 2): {'South': 8.999999999999972, 'North': 5.978914645140669, 'East': 7.605270504959844, 'West': 3.671016920692629, 'Pickup': -5.200000000000083, 'Dropoff': -2.8642431177010623}, (0, 2, 4, 2): {'South': 13.99999999999998, 'North': 12.999999999996225, 'East': 11.999999999999957, 'West': 12.999999999999876, 'Pickup': 3.9999999999999623, 'Dropoff': 3.9999999999999654}, (2, 1, 4, 2): {'South': 14.999999999999982, 'North': 14.999999999999982, 'East': 14.999999999999982, 'West': 16.999999999999986, 'Pickup': 6.999999999999985, 'Dropoff': 6.999999999999985}, (3, 1, 4, 2): {'South': 2.887112552927351, 'North': 15.999999999999984, 'East': 11.861870630921642, 'West': 14.82260950821037, 'Pickup': 3.8305621232088285, 'Dropoff': 5.533439654935275}, (4, 1, 4, 2): {'South': -2.8, 'North': 11.204357718665717, 'East': -2.84729856, 'West': -2.8, 'Pickup': -6.5600000000000005, 'Dropoff': -8.256}, (1, 1, 4, 2): {'South': 15.999999999999984, 'North': 12.330916427414465, 'East': 11.32799999994225, 'West': 15.498484552193732, 'Pickup': 4.703999999999986, 'Dropoff': 5.220384776022112}, (2, 0, 4, 2): {'South': 17.99999999999999, 'North': 15.999999999999984, 'East': 15.999999999999984, 'West': 16.999999999999986, 'Pickup': 7.9999999999999885, 'Dropoff': 7.9999999999999885}, (3, 0, 4, 2): {'South': 18.999999999999993, 'North': 16.999999999999986, 'East': 17.99999999999999, 'West': 17.99999999999999, 'Pickup': 8.999999999999991, 'Dropoff': 8.999999999999991}, (4, 0, 4, 2): {'South': 18.999999999999993, 'North': 17.99999999999999, 'East': 18.999999999999993, 'West': 18.999999999999993, 'Pickup': 9.999999999999995, 'Dropoff': 19.999999999999996}, (1, 0, 4, 2): {'South': 16.999999999999986, 'North': 14.999999999999982, 'East': 14.999999999999982, 'West': 15.999999999999984, 'Pickup': 6.999999999999977, 'Dropoff': 6.999999999999985}, (0, 1, 4, 2): {'South': 14.999999999999972, 'North': 7.277038894085926, 'East': 4.159989219718733, 'West': 11.258774937599988, 'Pickup': -0.40000030177888757, 'Dropoff': 3.0559999530670274}, (4, 0, 2, 2): {'South': 0.0, 'North': 0.0, 'East': 0.0, 'West': 0.0, 'Pickup': 0.0, 'Dropoff': 0.0}, (1, 3, 0, 3): {'South': 5.850167989646427, 'North': 3.9544292410898434, 'East': 3.6478661105976045, 'West': 5.999999999999969, 'Pickup': -4.119218672846998, 'Dropoff': -4.068882691399673}, (2, 3, 0, 3): {'South': 4.998585434193935, 'North': 4.999506416336148, 'East': 4.996002258606222, 'West': 6.99999999999997, 'Pickup': -3.0013499767105865, 'Dropoff': -3.0005394319815046}, (3, 3, 0, 3): {'South': 2.9657155493445004, 'North': 5.999999999999969, 'East': 3.8894801563541828, 'West': 4.600379910668184, 'Pickup': -4.015808266919618, 'Dropoff': -4.001251995180073}, (4, 3, 0, 3): {'South': 3.3468156211697577, 'North': 4.999999999999968, 'East': 2.8703772166473924, 'West': 2.6925224211525993, 'Pickup': -6.131148810600086, 'Dropoff': -5.820700387164969}, (0, 3, 0, 3): {'South': 3.194435228729783, 'North': 2.294260655472914, 'East': -9.15851434598263, 'West': 4.999999999999968, 'Pickup': -6.629692080015502, 'Dropoff': -6.824055882833774}, (1, 2, 0, 3): {'South': 6.99999999999997, 'North': 4.999957570075602, 'East': 4.999701153507711, 'West': 5.912964341353709, 'Pickup': -3.0000111429562764, 'Dropoff': -3.000056792423013}, (2, 2, 0, 3): {'South': 5.999969174139149, 'North': 5.999999336003036, 'East': 5.999999966340724, 'West': 7.999999999999971, 'Pickup': -2.0000000240067584, 'Dropoff': -2.0000000224746133}, (3, 2, 0, 3): {'South': 4.647228828498552, 'North': 6.751696098440009, 'East': 4.25250740521772, 'West': 6.99999999999997, 'Pickup': -3.367584177021875, 'Dropoff': -3.296429691764765}, (4, 2, 0, 3): {'South': 4.392971325873402, 'North': 5.999999999999969, 'East': 0.3369574399999795, 'West': 2.963136668903763, 'Pickup': -5.424029477709243, 'Dropoff': -12.485573181440001}, (0, 2, 0, 3): {'South': 5.999999999999969, 'North': 1.8204302407006483, 'East': 3.9716545802958656, 'West': 4.76567608110918, 'Pickup': -4.285500079551657, 'Dropoff': -4.302619374476556}, (1, 4, 0, 3): {'South': 4.597754353098568, 'North': 2.6552941596933506, 'East': 3.919969117114429, 'West': 4.999999999999968, 'Pickup': -5.544320948838282, 'Dropoff': -7.030874270801613}, (0, 4, 0, 3): {'South': 3.9999999999999676, 'North': -1.4837061150380952, 'East': 0.2843719600371404, 'West': 2.2768396392539265, 'Pickup': -6.195533880958845, 'Dropoff': -7.24104495366146}, (2, 4, 0, 3): {'South': 3.378927028887632, 'North': 2.300229570450974, 'East': -0.07092774832390925, 'West': 5.999999999999969, 'Pickup': -5.728000000000024, 'Dropoff': -5.584374147353663}, (3, 4, 0, 3): {'South': 0.21606882754335022, 'North': 2.8467035214492133, 'East': 2.9168396633355487, 'West': 4.999999999999968, 'Pickup': -6.746489380116127, 'Dropoff': -6.755485196085049}, (4, 4, 0, 3): {'South': -4.800000000136594, 'North': 1.9744101874734112, 'East': 1.5856110981455418, 'West': 3.9999999999999676, 'Pickup': -6.7776000000177286, 'Dropoff': -7.1923200000000245}, (2, 1, 0, 3): {'South': 6.99999999997503, 'North': 8.999999999962402, 'East': 6.999999999985146, 'West': 8.999999999999972, 'Pickup': -1.0000000000001237, 'Dropoff': -1.0000000000000948}, (2, 0, 0, 3): {'South': 7.999999999999911, 'North': 9.999999999999973, 'East': 7.999999999999971, 'West': 8.999999999990145, 'Pickup': -2.974034883484102e-14, 'Dropoff': -4.725394729354796e-14}, (3, 0, 0, 3): {'South': 5.186340234077194, 'North': 8.999999999999972, 'East': 7.577913514338783, 'West': 7.59002680537991, 'Pickup': -1.4185321195110672, 'Dropoff': -1.0662846498276874}, (4, 0, 0, 3): {'South': 5.128575999999969, 'North': 7.999999999999971, 'East': -7.512205562500861, 'West': -7.200000000000002, 'Pickup': -3.589290927562801, 'Dropoff': -4.259613213634489}, (1, 0, 0, 3): {'South': 8.999999999999961, 'North': 10.999999999999975, 'East': 8.999999999999972, 'West': 9.999999999999963, 'Pickup': 0.9999999999999707, 'Dropoff': 0.9999999999998168}, (3, 1, 0, 3): {'South': 5.993716003300348, 'North': 7.999999999999971, 'East': 5.961150004644184, 'West': 6.911666425611057, 'Pickup': -2.0142776015126627, 'Dropoff': -2.1679616000000284}, (4, 1, 0, 3): {'South': 5.608074968281489, 'North': 6.99999999999997, 'East': 4.4027923620588885, 'West': 3.5186192296664007, 'Pickup': -5.834504779030406, 'Dropoff': -4.800000000534977}, (1, 1, 0, 3): {'South': 2.8530602115952837, 'North': 9.999999999999973, 'East': 8.733401840676452, 'West': 9.837265706052913, 'Pickup': -6.2693948161421735, 'Dropoff': -6.293835841536011}, (0, 1, 0, 3): {'South': 8.933970677719074, 'North': 9.992663006347232, 'East': 9.842787921157436, 'West': 10.999999999999975, 'Pickup': 0.8488345599996959, 'Dropoff': 0.5800959999999764}, (0, 0, 0, 3): {'South': 9.999999999999973, 'North': 10.999999999999973, 'East': 9.999999999999877, 'West': 10.999999999999975, 'Pickup': 11.999999999999977, 'Dropoff': 1.999999999999974}, (0, 4, 1, 3): {'South': 11.999999999999922, 'North': 12.999999999999973, 'East': 12.999999999999979, 'West': 11.999999999999977, 'Pickup': 13.99999999999998, 'Dropoff': 3.99999999999998}, (1, 4, 1, 3): {'South': 10.999958673050896, 'North': 12.999999999999979, 'East': 11.999796776089246, 'West': 10.99325818707365, 'Pickup': 2.996705834609961, 'Dropoff': 2.998025223064758}, (2, 4, 1, 3): {'South': 9.981932416782609, 'North': 11.999999999999977, 'East': 10.999451559021773, 'West': 9.968945485489064, 'Pickup': 1.9921573337101375, 'Dropoff': 1.9997806304290102}, (3, 4, 1, 3): {'South': 8.96083592487046, 'North': 10.999999999999975, 'East': 9.91115812095468, 'West': 8.993668345178042, 'Pickup': 0.9971611032157276, 'Dropoff': 0.9545582678722601}, (4, 4, 1, 3): {'South': 0.8035583999999893, 'North': 9.999999999999973, 'East': 7.229467671191198, 'West': 6.5363987384648485, 'Pickup': -3.678642349890618, 'Dropoff': -4.694669574144011}, (4, 3, 1, 3): {'South': 5.183359999999977, 'North': 8.999999999999972, 'East': 3.9047934071701293, 'West': 5.148799999905879, 'Pickup': -3.2286361600000375, 'Dropoff': -2.0795852200355567}, (3, 3, 1, 3): {'South': 7.003550049688242, 'North': 9.742973605727375, 'East': 9.999999999999973, 'West': 8.357225458013433, 'Pickup': -0.3732480000000253, 'Dropoff': -0.5944628898967289}, (2, 3, 1, 3): {'South': 7.95825142357817, 'North': 10.999999999999975, 'East': 9.004151769964828, 'West': 7.2584499323609055, 'Pickup': 0.4121343999999771, 'Dropoff': 0.9415059875024906}, (0, 3, 1, 3): {'South': 10.999999999993566, 'North': 11.999999999999705, 'East': 12.999999999999979, 'West': 10.999999978382387, 'Pickup': 2.9999999998592974, 'Dropoff': 2.9999999999994085}, (1, 3, 1, 3): {'South': 9.999999999953102, 'North': 11.999999999999977, 'East': 11.999999996040037, 'West': 9.99999999997576, 'Pickup': 1.9999999982675496, 'Dropoff': 1.9999999930061032}, (2, 2, 1, 3): {'South': 7.9999999995169535, 'North': 9.999999999999973, 'East': 9.99997849224849, 'West': 7.999986635780362, 'Pickup': -2.2920946661276115e-07, 'Dropoff': -4.950931505583993e-08}, (3, 2, 1, 3): {'South': 6.993113625956408, 'North': 8.999999999999972, 'East': 7.775471164237827, 'West': 6.996422623423013, 'Pickup': -1.0046348955041349, 'Dropoff': -1.0026631377088915}, (4, 2, 1, 3): {'South': 6.983230068883427, 'North': 7.999999999999971, 'East': 6.405851661456443, 'West': 5.804029990614849, 'Pickup': -2.1000592593975, 'Dropoff': -3.2960066416595106}, (1, 2, 1, 3): {'South': 8.999999999693912, 'North': 10.99999992720413, 'East': 10.999999999999975, 'West': 9.999999999998026, 'Pickup': 0.9999999999607744, 'Dropoff': 0.9999999998787327}, (0, 2, 1, 3): {'South': 9.596426189574442, 'North': 9.018033521429459, 'East': 11.999999999999977, 'West': 10.841773265638338, 'Pickup': 1.4097786101773657, 'Dropoff': -1.6000000000310806}, (2, 1, 1, 3): {'South': 6.999981526049142, 'North': 6.999529867510657, 'East': 8.999999999999972, 'West': 6.999963415332389, 'Pickup': -1.0000439090372757, 'Dropoff': -1.0000921354779482}, (3, 1, 1, 3): {'South': 5.6600618267970955, 'North': -5.70185854573976, 'East': 7.999999999999971, 'West': 6.0187669161335355, 'Pickup': -2.882600507324635, 'Dropoff': -2.4665600000074432}, (4, 1, 1, 3): {'South': 5.053303448770897, 'North': 2.3466607019248906, 'East': 6.99999999999997, 'West': 4.414280151387189, 'Pickup': -4.556125367500823, 'Dropoff': -3.30170880000791}, (1, 1, 1, 3): {'South': 7.999999999999971, 'North': 5.925480163290785, 'East': 6.918975300447238, 'West': 5.659450072030206, 'Pickup': -2.001505673235454, 'Dropoff': -2.0006657296732664}, (2, 0, 1, 3): {'South': 5.9208793413589955, 'North': 5.954675599524977, 'East': 7.999999999999971, 'West': 6.774931455149305, 'Pickup': -3.9184633856000186, 'Dropoff': -2.1446905308166384}, (3, 0, 1, 3): {'South': 4.026677052571077, 'North': 6.99999999999997, 'East': 5.6349634559999595, 'West': 5.38411927262545, 'Pickup': -3.972687502236744, 'Dropoff': -3.5430511655991395}, (4, 0, 1, 3): {'South': -2.4640000097800847, 'North': 5.999999999999969, 'East': 2.2783999992391197, 'West': 0.46399838258287573, 'Pickup': -6.442673071460252, 'Dropoff': -8.074063329222069}, (1, 0, 1, 3): {'South': 2.1375351833265954, 'North': 4.110867358161226, 'East': 6.99999999999997, 'West': 5.644776512367045, 'Pickup': -4.080000000000023, 'Dropoff': -4.9373205634097985}, (0, 0, 1, 3): {'South': 5.999999999999969, 'North': 0.8013699864308039, 'East': 3.2290473493768284, 'West': -2.080000992114302, 'Pickup': -4.691958268306737, 'Dropoff': -6.592502045242215}, (0, 1, 1, 3): {'South': 6.99999999999997, 'North': 5.03575997795998, 'East': 5.641835456935519, 'West': 2.448404483580406, 'Pickup': -5.146442659113921, 'Dropoff': -3.388800000002153}, (2, 3, 3, 2): {'South': 9.999999999999973, 'North': 7.999999999999803, 'East': 7.999999999985698, 'West': 7.99999999999463, 'Pickup': -4.259180812929441e-14, 'Dropoff': -4.4887602145352104e-14}, (1, 3, 3, 2): {'South': 8.999999999999972, 'North': 6.999628366923005, 'East': 6.9754955465865445, 'West': 6.998760150635376, 'Pickup': -1.0000552880549314, 'Dropoff': -1.0019747774748633}, (1, 4, 3, 2): {'South': 4.955737473946988, 'North': 5.661810730979081, 'East': -0.9652496189852222, 'West': 7.999999999999971, 'Pickup': -2.141087744617356, 'Dropoff': -5.139200000000018}, (2, 2, 3, 2): {'South': 6.999999684981469, 'North': 6.999998799663354, 'East': 8.999999999999972, 'West': 6.999999993762756, 'Pickup': -1.000000000136056, 'Dropoff': -1.0000000896911778}, (3, 2, 3, 2): {'South': 5.414264483942017, 'North': 7.999999999999971, 'East': 5.957991638574724, 'West': 5.791868054317646, 'Pickup': -2.017797586973408, 'Dropoff': -2.2799029610655372}, (4, 2, 3, 2): {'South': -6.800000000000002, 'North': 6.99999999999997, 'East': 1.3416937542647611, 'West': 0.7534814681847628, 'Pickup': -3.3478884737352033, 'Dropoff': -4.043646305191897}, (3, 1, 3, 2): {'South': 3.591398201147459, 'North': 6.99999999999997, 'East': 4.046666848632333, 'West': 5.641681919396686, 'Pickup': -3.957681716940395, 'Dropoff': -3.3490925638442577}, (4, 1, 3, 2): {'South': 2.7449465035167924, 'North': 5.999999999999969, 'East': -1.9166879582821927, 'West': 3.4188599699630755, 'Pickup': -6.400000000000013, 'Dropoff': -6.350786161560759}, (2, 1, 3, 2): {'South': 5.99999977236563, 'North': 5.999992122136267, 'East': 7.999999999999971, 'West': 5.999997187874863, 'Pickup': -2.000006765385679, 'Dropoff': -2.000000150783127}, (1, 2, 3, 2): {'South': 7.948614111611266, 'North': 5.924853874046902, 'East': 7.999999999999971, 'West': 6.625315741695972, 'Pickup': -2.121562712933279, 'Dropoff': -2.0035660472988073}, (0, 2, 3, 2): {'South': 6.99999999999997, 'North': 4.358175816071634, 'East': 5.234968368248507, 'West': 4.9593373187150895, 'Pickup': -3.3689054196171084, 'Dropoff': -4.5662051715612755}, (0, 3, 3, 2): {'South': 7.999999999999971, 'North': 2.175999999999979, 'East': 1.5225590506265387, 'West': 1.5818271910003965, 'Pickup': -2.466560003759891, 'Dropoff': -3.9679984955591374}, (0, 4, 3, 2): {'South': 6.99999999999997, 'North': 5.370501844942534, 'East': 1.3259462500102428, 'West': 2.1414575241740232, 'Pickup': -7.655689595467626, 'Dropoff': -5.808000000000012}, (1, 1, 3, 2): {'South': 6.99999999999997, 'North': 4.062176955688665, 'East': 5.952110680673267, 'West': 4.956203671861789, 'Pickup': -3.141739281290879, 'Dropoff': -3.648000000000026}, (2, 0, 3, 2): {'South': 4.998767153646413, 'North': 4.997978869747122, 'East': 6.99999999999997, 'West': 5.993793558203564, 'Pickup': -3.0001692155389654, 'Dropoff': -3.0000669602625027}, (3, 0, 3, 2): {'South': 3.923827415939636, 'North': 5.999999999999969, 'East': 4.868989951998963, 'West': 2.1919999999999753, 'Pickup': -5.44000000000002, 'Dropoff': -4.186624000000033}, (1, 0, 3, 2): {'South': 5.999999999999969, 'North': 3.4856840332692185, 'East': 5.9792664400083035, 'West': 0.6079999999999797, 'Pickup': -4.024765844421435, 'Dropoff': -4.0661096896554225}, (0, 1, 3, 2): {'South': 5.999999999999969, 'North': 3.366004575062796, 'East': 2.2968112212239378, 'West': 3.456077416877627, 'Pickup': -4.518400000000027, 'Dropoff': -9.170425628575504}, (0, 0, 3, 2): {'South': 4.999999999999968, 'North': 1.6084630095040284, 'East': 2.095015696594865, 'West': -0.11840000000002693, 'Pickup': -6.800000000000013, 'Dropoff': -6.800000000000013}, (4, 0, 3, 2): {'South': 3.0038741090999226, 'North': 4.999999999999968, 'East': 3.4286612606534166, 'West': -0.4741293741172541, 'Pickup': -5.256610442684989, 'Dropoff': -5.8203726382635965}, (0, 0, 4, 2): {'South': 15.999999999999984, 'North': 14.999999999999982, 'East': 13.999999999999158, 'West': 14.999999999999945, 'Pickup': 5.999999999999983, 'Dropoff': 13.99999999999998}, (0, 0, 0, 2): {'South': 12.999999999999979, 'North': 13.999999999999803, 'East': 12.999999999999977, 'West': 13.99999999999998, 'Pickup': 14.999999999999982, 'Dropoff': 4.99999999999998}, (1, 0, 0, 2): {'South': 11.999999999999977, 'North': 13.99999999999998, 'East': 11.999999999913491, 'West': 12.999999999999979, 'Pickup': 3.9999999999999103, 'Dropoff': 3.99999999999998}, (2, 0, 0, 2): {'South': 10.999999999999538, 'North': 12.999999999999979, 'East': 10.999999999999542, 'West': 11.999999999993944, 'Pickup': 2.999999999999973, 'Dropoff': 2.9999999999981117}, (3, 0, 0, 2): {'South': 9.589674027463474, 'North': 11.999999999999977, 'East': 10.568673064719151, 'West': 10.737232828002446, 'Pickup': -5.837215105024008, 'Dropoff': 0.3802862098802642}, (4, 0, 0, 2): {'South': 0.8799994799262763, 'North': 10.999999999999975, 'East': 4.527999999999944, 'West': 8.030079999995872, 'Pickup': -0.3530248667895437, 'Dropoff': -0.3405272984722617}, (0, 1, 0, 2): {'South': 10.778850382404677, 'North': 12.722162372994287, 'East': 12.225414370474523, 'West': 13.99999999999998, 'Pickup': 1.4607366434173592, 'Dropoff': 3.6439812956158844}, (1, 1, 0, 2): {'South': 7.741109773402087, 'North': 12.224124114335027, 'East': 6.250716364799986, 'West': 12.999999999999979, 'Pickup': 2.1003479039999804, 'Dropoff': 2.6696122627018806}, (2, 1, 0, 2): {'South': 9.999999997096483, 'North': 11.999999999995145, 'East': 9.999999999998293, 'West': 11.999999999999977, 'Pickup': 1.9999999999999387, 'Dropoff': 1.999999999381622}, (3, 1, 0, 2): {'South': 7.921583109121326, 'North': 10.999999999999975, 'East': 8.914321431078221, 'West': 9.751572293366252, 'Pickup': 0.5800959999999764, 'Dropoff': 0.7659732376628394}, (4, 1, 0, 2): {'South': 3.925827728932912, 'North': 9.999999999999973, 'East': 3.2591310508172553, 'West': 5.905492349729462, 'Pickup': -0.5570255867141549, 'Dropoff': -0.912384000000024}, (2, 2, 0, 2): {'South': 8.99999999985357, 'North': 8.999999999975817, 'East': 8.999999999931937, 'West': 10.999999999999975, 'Pickup': 0.9999997456425145, 'Dropoff': 0.999999945687146}, (3, 2, 0, 2): {'South': 6.311367213659632, 'North': 9.999999999999973, 'East': 3.9245905823190057, 'West': 8.817153465829485, 'Pickup': -0.3371802063912002, 'Dropoff': -0.45281773722012164}, (4, 2, 0, 2): {'South': 6.776499903942642, 'North': 8.999999999999972, 'East': 7.334600726488032, 'West': 4.030826310755925, 'Pickup': -1.549156523705364, 'Dropoff': -3.471551390679058}, (1, 2, 0, 2): {'South': 9.999999999999973, 'North': 7.864964530622916, 'East': 7.71149967003483, 'West': 7.8733247289385675, 'Pickup': -1.670525648000443, 'Dropoff': -0.2810222770917522}, (2, 3, 0, 2): {'South': 7.9999989511712775, 'North': 7.9997084825621405, 'East': 7.999998936086317, 'West': 9.999999999999973, 'Pickup': -3.0010707864498102e-05, 'Dropoff': -7.241922918683255e-08}, (3, 3, 0, 2): {'South': 6.196668477896327, 'North': 8.999999999999972, 'East': 6.871743122314399, 'West': 7.61256857598962, 'Pickup': -1.5443200000000885, 'Dropoff': -1.4644736040727717}, (4, 3, 0, 2): {'South': 6.626207353886274, 'North': 7.999999999999971, 'East': 3.2219119597716137, 'West': 5.251284853220493, 'Pickup': -3.296000000000023, 'Dropoff': -2.6905088000285313}, (1, 3, 0, 2): {'South': 8.999999999999972, 'North': 6.990146631630118, 'East': 6.990317595082639, 'West': 8.96864595360115, 'Pickup': -1.1959552000000275, 'Dropoff': -1.0114590840772784}, (2, 4, 0, 2): {'South': 6.9222725712124475, 'North': 6.762053793022853, 'East': 7.936564187539763, 'West': 8.999999999999972, 'Pickup': -1.024183258433126, 'Dropoff': -1.2411401851597732}, (3, 4, 0, 2): {'South': 3.324823115166076, 'North': 7.999999999999971, 'East': 6.393471988334268, 'West': 7.912585811960892, 'Pickup': -2.279950884698043, 'Dropoff': -2.209418970164703}, (4, 4, 0, 2): {'South': 3.235199999749407, 'North': 6.99999999999997, 'East': -1.6474607400909553, 'West': 4.041435870338757, 'Pickup': -12.391331664756736, 'Dropoff': -3.6624183965830244}, (0, 2, 0, 2): {'South': 8.999999999999972, 'North': 6.185555420089049, 'East': 5.986052853503839, 'West': 6.912155813134359, 'Pickup': -3.9522394240771863, 'Dropoff': -4.556800000000018}, (0, 3, 0, 2): {'South': 7.999999999999971, 'North': 6.636083199999971, 'East': 5.06572539655111, 'West': 7.969628268209008, 'Pickup': -2.704482741273253, 'Dropoff': -2.7776000003176486}, (1, 4, 0, 2): {'South': 5.012061116370794, 'North': 3.3459269072617577, 'East': 4.191999999993233, 'West': 7.999999999999971, 'Pickup': -2.978135500390425, 'Dropoff': -2.1425493675384195}, (0, 4, 0, 2): {'South': 5.917671034608574, 'North': 3.3204435341667895, 'East': 3.3215999999999766, 'West': 6.99999999999997, 'Pickup': -9.335662217669775, 'Dropoff': -3.1998383369715873}, (2, 3, 2, 1): {'South': 3.9999410463499427, 'North': 3.9999994018650407, 'East': 3.9999999475007506, 'West': 5.999999999999969, 'Pickup': -4.000000219436683, 'Dropoff': -4.00000021353134}, (3, 3, 2, 1): {'South': 2.878736251082802, 'North': 4.999999999999968, 'East': 2.9733645669424775, 'West': 3.9897813130018496, 'Pickup': -5.001975348534793, 'Dropoff': -5.031436044359466}, (4, 3, 2, 1): {'South': 0.3026833316587587, 'North': 3.9999999999999676, 'East': 0.44752759107613094, 'West': 2.0237208207263966, 'Pickup': -7.186816942080025, 'Dropoff': -9.600000000000012}, (1, 3, 2, 1): {'South': 4.999999999999968, 'North': 2.9725982066343235, 'East': 2.8826418105995946, 'West': 4.9164194516346855, 'Pickup': -5.039062703037674, 'Dropoff': -5.002413187833906}, (2, 4, 2, 1): {'South': 2.059718274034124, 'North': 2.658369953678306, 'East': 2.289279999900369, 'West': 4.999999999999968, 'Pickup': -5.52698662650031, 'Dropoff': -6.512000000000025}, (3, 4, 2, 1): {'South': -0.5874854937787548, 'North': 1.0812382592105556, 'East': 2.7863465468949613, 'West': 3.9999999999999676, 'Pickup': -6.628373966249385, 'Dropoff': -6.276694392964848}, (4, 4, 2, 1): {'South': 0.3229814538090041, 'North': 2.999999999999967, 'East': 0.4103683932361404, 'West': -4.796752539612012, 'Pickup': -7.146820946125624, 'Dropoff': -8.333902689176288}, (1, 4, 2, 1): {'South': 3.6375221513727505, 'North': 0.5634652941509541, 'East': 0.3898855061174782, 'West': 3.9999999999999676, 'Pickup': -6.4561316136420155, 'Dropoff': -6.046276780305792}, (2, 2, 2, 1): {'South': 4.99999999900632, 'North': 4.999999322046567, 'East': 4.9999999511286015, 'West': 6.99999999999997, 'Pickup': -3.0000000411811762, 'Dropoff': -3.000000040200126}, (3, 2, 2, 1): {'South': 3.0327040455656022, 'North': 0.8892016463664412, 'East': 4.848711921204296, 'West': 5.999999999999969, 'Pickup': -4.622080000000028, 'Dropoff': -4.166759229155268}, (4, 2, 2, 1): {'South': 1.2904959924068384, 'North': 4.999999999999968, 'East': 0.9804370372085942, 'West': 2.0549616906803805, 'Pickup': -5.544320002734052, 'Dropoff': -7.042841607592391}, (1, 2, 2, 1): {'South': 5.999999999999969, 'North': 3.782249002052932, 'East': 2.3444844356423653, 'West': 4.865214146270304, 'Pickup': -4.179959376970283, 'Dropoff': -4.070844587617258}, (0, 3, 2, 1): {'South': 3.9999999999999676, 'North': 2.0575667958123307, 'East': -2.0908653847799763, 'West': 2.2933879704647016, 'Pickup': -6.408671700316626, 'Dropoff': -6.973145286161506}, (0, 4, 2, 1): {'South': 2.999999999999967, 'North': -0.8818783976692905, 'East': 1.6332270235372977, 'West': -4.50240238009108, 'Pickup': -9.56032000000002, 'Dropoff': -8.080289448092168}, (0, 2, 2, 1): {'South': 4.999999999999968, 'North': 1.1581761242927242, 'East': -1.4200789599646182, 'West': 1.148799981132611, 'Pickup': -7.105297703111148, 'Dropoff': -10.995254189175602}, (2, 1, 2, 1): {'South': 5.999999999997964, 'North': 5.999999991523715, 'East': 5.99999999358159, 'West': 7.999999999999971, 'Pickup': -2.0000000000000298, 'Dropoff': -2.000000000003843}, (3, 1, 2, 1): {'South': 4.992186055888002, 'North': 6.99999999999997, 'East': 4.983130593881072, 'West': 5.999692913016645, 'Pickup': -3.0014440613871747, 'Dropoff': -3.10703530817809}, (4, 1, 2, 1): {'South': 2.053759999998866, 'North': 5.999999999999969, 'East': 2.3911505359387264, 'West': 0.1758200674201178, 'Pickup': -4.271468863224646, 'Dropoff': -5.036202227950634}, (1, 1, 2, 1): {'South': 5.093994578868866, 'North': 2.220125665801338, 'East': 5.613953336535697, 'West': 6.99999999999997, 'Pickup': -4.080000000000023, 'Dropoff': -3.6265348928577907}, (2, 0, 2, 1): {'South': 8.999999999999972, 'North': 6.999999999999918, 'East': 6.99999999999997, 'West': 7.999999999999967, 'Pickup': -1.000000000000448, 'Dropoff': -1.0000000000000286}, (3, 0, 2, 1): {'South': 9.999999999999973, 'North': 7.9999999999999645, 'East': 8.999999999999972, 'West': 8.999999999999972, 'Pickup': -2.6683473626706462e-14, 'Dropoff': -2.667062329332153e-14}, (4, 0, 2, 1): {'South': 9.999999999999968, 'North': 8.999999999999972, 'East': 9.999999999999973, 'West': 9.999999999999973, 'Pickup': 10.999999999999975, 'Dropoff': 0.999999999999975}, (1, 0, 2, 1): {'South': 7.999999999999971, 'North': 5.952095350797663, 'East': 5.777434424695766, 'West': 6.9690896908287705, 'Pickup': -2.0209285012340916, 'Dropoff': -2.001196271270657}, (0, 1, 2, 1): {'South': 0.9435695661843773, 'North': -2.8746853311608715, 'East': 0.31999999999997986, 'West': 5.999999999999969, 'Pickup': -5.6084908130882996, 'Dropoff': -10.729057923891201}, (0, 0, 2, 1): {'South': 6.99999999999997, 'North': 5.888911728098751, 'East': 4.868389551930221, 'West': 5.98167091829711, 'Pickup': -3.2183500800000298, 'Dropoff': -3.1399680000000294}, (4, 0, 4, 1): {'South': 10.999999999999975, 'North': 11.999999999999977, 'East': 10.999999999999975, 'West': 10.999999999999975, 'Pickup': 1.9999999999999767, 'Dropoff': 9.999999999999973}, (3, 0, 4, 1): {'South': 10.999999999999975, 'North': 12.999999999999979, 'East': 11.999999999999977, 'West': 11.999999999999977, 'Pickup': 2.9999999999999782, 'Dropoff': 2.9999999999999782}, (2, 0, 4, 1): {'South': 11.999999999999977, 'North': 11.999999999999977, 'East': 13.99999999999998, 'West': 12.999999999999979, 'Pickup': 3.99999999999998, 'Dropoff': 3.99999999999998}, (2, 1, 4, 1): {'South': 12.999999999999979, 'North': 12.999999999999979, 'East': 14.999999999999982, 'West': 12.999999999999979, 'Pickup': 4.999999999999981, 'Dropoff': 4.999999999999981}, (3, 1, 4, 1): {'South': 8.405959008492841, 'North': 13.99999999999998, 'East': 11.852198288322558, 'West': 10.963736607539522, 'Pickup': 3.3776609771481216, 'Dropoff': 2.5708155511020285}, (4, 1, 4, 1): {'South': -2.8, 'North': 12.267611126286011, 'East': -2.782336, 'West': -3.06304, 'Pickup': -4.0, 'Dropoff': -4.0}, (1, 1, 4, 1): {'South': 13.99999999999998, 'North': 11.999999999999938, 'East': 12.999999999999972, 'West': 11.999999999999977, 'Pickup': 3.99999999999998, 'Dropoff': 3.99999999999998}, (2, 2, 4, 1): {'South': 13.99999999999998, 'North': 15.999999999999984, 'East': 15.999999999999984, 'West': 13.99999999999998, 'Pickup': 5.999999999999983, 'Dropoff': 5.999999999999983}, (3, 2, 4, 1): {'South': -3.0225817600000005, 'North': 14.999999999999982, 'East': 12.724735651121224, 'West': 12.567928670011279, 'Pickup': 1.9885211455424456, 'Dropoff': 4.6583867307315225}, (4, 2, 4, 1): {'South': -3.04, 'North': 3.978859510722566, 'East': -2.8, 'West': -2.9142783999999997, 'Pickup': -4.0, 'Dropoff': -4.0}, (1, 2, 4, 1): {'South': 14.999999999999982, 'North': 16.999999999999986, 'East': 16.999999999999986, 'West': 15.999999999999984, 'Pickup': 6.999999999999985, 'Dropoff': 6.999999999999976}, (2, 3, 4, 1): {'South': 14.999999999999982, 'North': 16.999999999999986, 'East': 16.999999999999986, 'West': 14.999999999999982, 'Pickup': 6.999999999999985, 'Dropoff': 6.999999999999985}, (3, 3, 4, 1): {'South': 13.999999999999917, 'North': 15.999999999999984, 'East': 15.999999999999984, 'West': 14.999999999999982, 'Pickup': 5.999999999999983, 'Dropoff': 5.999999999999983}, (4, 3, 4, 1): {'South': 13.99999999999998, 'North': 14.999999999999982, 'East': 14.999999999999982, 'West': 13.99999999999998, 'Pickup': 4.999999999999981, 'Dropoff': 12.999999999999966}, (1, 3, 4, 1): {'South': 15.999999999999984, 'North': 17.99999999999999, 'East': 17.99999999999999, 'West': 15.999999999999984, 'Pickup': 7.9999999999999885, 'Dropoff': 7.9999999999999885}, (2, 4, 4, 1): {'South': 15.999999999999972, 'North': 17.99999999999999, 'East': 16.999999999999986, 'West': 15.999999999999925, 'Pickup': 7.9999999999999325, 'Dropoff': 7.999999999998909}, (3, 4, 4, 1): {'South': 14.99999999998103, 'North': 16.999999999999986, 'East': 15.999999999995913, 'West': 14.999999999999313, 'Pickup': 6.999999999999955, 'Dropoff': 6.9999999999996625}, (4, 4, 4, 1): {'South': 4.41599999999998, 'North': 15.999999999999984, 'East': 4.559850845560755, 'West': 3.996692479999992, 'Pickup': 2.3998508455564784, 'Dropoff': 1.3922761113599824}, (1, 4, 4, 1): {'South': 16.999999999999986, 'North': 18.999999999999993, 'East': 17.99999999999999, 'West': 16.999999999999986, 'Pickup': 8.999999999999991, 'Dropoff': 8.999999999999991}, (1, 0, 4, 1): {'South': 12.999999999999979, 'North': 10.999999999999975, 'East': 12.999999999999979, 'West': 11.999999999999977, 'Pickup': 2.9999999999999782, 'Dropoff': 2.9999999999999782}, (0, 1, 4, 1): {'South': 12.999999999999979, 'North': 11.552100291021908, 'East': 9.962067724599676, 'West': 7.788859637104622, 'Pickup': 0.9984812227700115, 'Dropoff': 2.707271037530797}, (0, 0, 4, 1): {'South': 11.999999999999977, 'North': 10.999999999999975, 'East': 11.999999999999977, 'West': 10.999999999999975, 'Pickup': 1.9999999999999767, 'Dropoff': 9.999999999999973}, (0, 2, 4, 1): {'South': 12.30553599999999, 'North': 14.641279996551717, 'East': 17.99999999999999, 'West': 16.580580358560155, 'Pickup': 7.798446006091491, 'Dropoff': 7.066879926091492}, (0, 3, 4, 1): {'South': 16.999999999999986, 'North': 17.99999999999999, 'East': 18.999999999999993, 'West': 16.999999999999986, 'Pickup': 8.999999999999991, 'Dropoff': 8.999999999999991}, (0, 4, 4, 1): {'South': 17.99999999999999, 'North': 18.999999999999993, 'East': 18.999999999999993, 'West': 17.99999999999999, 'Pickup': 9.999999999999995, 'Dropoff': 19.999999999999996}, (4, 3, 3, 1): {'South': 12.999999999999979, 'North': 11.999999999999973, 'East': 11.999999999999977, 'West': 12.999999999999979, 'Pickup': 13.99999999999998, 'Dropoff': 3.9999999999999503}, (3, 3, 3, 1): {'South': 12.999999999999979, 'North': 10.999999999896366, 'East': 10.999999999999307, 'West': 11.999999999999973, 'Pickup': 2.9999999999999742, 'Dropoff': 2.999999999999978}, (4, 4, 3, 1): {'South': 11.940501282815134, 'North': 10.33594437144776, 'East': 10.624319689127358, 'West': 12.999999999999979, 'Pickup': 2.1446293842039954, 'Dropoff': 2.706427947476562}, (3, 4, 3, 1): {'South': 11.999999999999977, 'North': 8.075850515744062, 'East': 2.2780749185550864, 'West': 9.815114511985598, 'Pickup': 1.6439214079999775, 'Dropoff': -8.0}, (2, 4, 3, 1): {'South': 10.833851189124927, 'North': 8.852050476169524, 'East': 9.565836687995473, 'West': 10.999999999999975, 'Pickup': 0.848390350508205, 'Dropoff': 0.9944322756731291}, (2, 3, 3, 1): {'South': 11.999999999999977, 'North': 9.999999999999483, 'East': 9.999999999999972, 'West': 9.999999999999414, 'Pickup': 1.9999999999999767, 'Dropoff': 1.9999999999943732}, (0, 4, 1, 1): {'South': 0.0, 'North': 0.0, 'East': 0.0, 'West': 0.0, 'Pickup': 0.0, 'Dropoff': 0.0}, (0, 0, 2, 0): {'South': 10.999999999999975, 'North': 9.279631359999973, 'East': 8.326212041791788, 'West': 4.383999999999985, 'Pickup': -0.16655985467450674, 'Dropoff': -4.400000000000009}, (1, 0, 2, 0): {'South': 11.999999999999977, 'North': 9.911094338175443, 'East': 9.601236173262022, 'West': 10.904463422766518, 'Pickup': 1.7200639999999776, 'Dropoff': 1.9782268972281118}, (2, 0, 2, 0): {'South': 12.999999999999979, 'North': 10.999999999999975, 'East': 10.999999999999975, 'West': 11.999999999999943, 'Pickup': 2.9999999999999765, 'Dropoff': 2.9999999999999782}, (3, 0, 2, 0): {'South': 13.99999999999998, 'North': 11.999999999999975, 'East': 12.999999999999972, 'West': 12.999999999999979, 'Pickup': 3.9999999999997455, 'Dropoff': 3.9999999999999765}, (4, 0, 2, 0): {'South': 13.999999999999876, 'North': 12.999999999999979, 'East': 13.99999999999998, 'West': 13.99999999999998, 'Pickup': 14.999999999999982, 'Dropoff': 4.999999999999981}, (0, 1, 2, 0): {'South': 9.272596070388326, 'North': 3.745644876563725, 'East': 4.316501172106966, 'West': 9.999999999999973, 'Pickup': -0.3732480002576031, 'Dropoff': -0.5175705855786901}, (1, 1, 2, 0): {'South': 10.999999999999975, 'North': 0.33036123273165785, 'East': 8.03005114703222, 'West': 10.248935345852486, 'Pickup': -0.9440004846190788, 'Dropoff': -0.944000104677736}, (2, 1, 2, 0): {'South': 9.999999999974195, 'North': 9.99999999997307, 'East': 9.999999999956524, 'West': 11.999999999999977, 'Pickup': 1.999999999999968, 'Dropoff': 1.9999999999999722}, (3, 1, 2, 0): {'South': 8.914806591960176, 'North': 10.999999999999975, 'East': 8.99321874428167, 'West': 9.574497279999976, 'Pickup': 0.9123892855787241, 'Dropoff': 0.9929324064431998}, (4, 1, 2, 0): {'South': 8.856803088436118, 'North': 9.999999999999973, 'East': 6.247816614315362, 'West': 3.8879999999999835, 'Pickup': -0.06610968576098732, 'Dropoff': -1.367746565328714}, (2, 2, 2, 0): {'South': 8.99999999849132, 'North': 8.999999967275407, 'East': 8.999999997431322, 'West': 10.999999999999975, 'Pickup': 0.9999998452836032, 'Dropoff': 0.9999999998416963}, (3, 2, 2, 0): {'South': 5.1042316766696505, 'North': 6.617635262298263, 'East': 7.8667631320183355, 'West': 9.999999999999973, 'Pickup': -1.7280000000000206, 'Dropoff': -3.354917645233875}, (4, 2, 2, 0): {'South': -0.16000000000006942, 'North': 8.751595972950499, 'East': 4.425404494072662, 'West': 8.999999999999972, 'Pickup': -3.2896000000001164, 'Dropoff': -3.5200000000000182}, (1, 2, 2, 0): {'South': 9.999999999999973, 'North': 7.989036519690438, 'East': 7.999106956366274, 'West': 8.999974412740746, 'Pickup': -0.014268175197237592, 'Dropoff': -0.0008124796544130419}, (2, 3, 2, 0): {'South': 7.999975658190375, 'North': 7.999883398315343, 'East': 7.999885522103368, 'West': 9.999999999999973, 'Pickup': -8.620579308249443e-05, 'Dropoff': -0.0006248004846858365}, (3, 3, 2, 0): {'South': 6.970072129618071, 'North': 8.999999999999972, 'East': 6.986163901930207, 'West': 7.99283960840793, 'Pickup': -1.0148416462483196, 'Dropoff': -1.0001257891100832}, (4, 3, 2, 0): {'South': 6.917000149657517, 'North': 7.999999999999971, 'East': 4.297428878536079, 'West': 5.926911999999973, 'Pickup': -3.8835265428764383, 'Dropoff': -2.4427241583506833}, (1, 3, 2, 0): {'South': 8.905659795115598, 'North': 2.0642069335900435, 'East': 4.3485757723333025, 'West': 8.999999999999972, 'Pickup': -1.153061085099138, 'Dropoff': -1.8330849574912245}, (2, 4, 2, 0): {'South': 6.645692980386854, 'North': 5.274709675382258, 'East': 7.497288238285323, 'West': 8.999999999999972, 'Pickup': -2.221853704192025, 'Dropoff': -1.326592000000027}, (3, 4, 2, 0): {'South': 4.219016514553899, 'North': -1.174563719891804, 'East': 6.056903520542903, 'West': 7.999999999999971, 'Pickup': -2.1567018441792523, 'Dropoff': -6.1984185800787515}, (4, 4, 2, 0): {'South': -2.0432113795643607, 'North': 3.867174281951893, 'East': 4.922709063825511, 'West': 6.99999999999997, 'Pickup': -6.833855503719569, 'Dropoff': -6.4992000000000125}, (1, 4, 2, 0): {'South': 7.999999999999971, 'North': 0.7983204486294726, 'East': 6.61093113712798, 'West': 2.6986903713859047, 'Pickup': -3.1974164144272432, 'Dropoff': -4.160109719447904}, (0, 4, 2, 0): {'South': 5.655986397202398, 'North': 4.973567999999972, 'East': 3.1487999999999765, 'West': 6.99999999999997, 'Pickup': -5.406057578583119, 'Dropoff': -3.989403940627284}, (0, 3, 2, 0): {'South': 7.966079201471536, 'North': 2.634053900839519, 'East': 4.31945424474222, 'West': 7.999999999999971, 'Pickup': -2.717516773252497, 'Dropoff': -2.0046719604783734}, (4, 0, 4, 0): {'South': 14.99999999999992, 'North': 15.999999999999984, 'East': 14.999999999999982, 'West': 14.999999999999982, 'Pickup': 5.999999999999983, 'Dropoff': 13.99999999999998}, (3, 0, 4, 0): {'South': 14.999999999999922, 'North': 16.999999999999986, 'East': 15.999999999999982, 'West': 15.999999999999984, 'Pickup': 6.999999999999985, 'Dropoff': 6.999999999999985}, (0, 2, 2, 0): {'South': 8.999999999999972, 'North': 7.749824064122914, 'East': 5.926548580996511, 'West': 7.324075860604039, 'Pickup': -1.0253957939259912, 'Dropoff': -1.1915987687846759}, (2, 0, 4, 0): {'South': 15.99999999999992, 'North': 17.99999999999999, 'East': 15.999999999999984, 'West': 16.999999999999986, 'Pickup': 7.9999999999999885, 'Dropoff': 7.999999999999983}, (1, 0, 4, 0): {'South': 16.999999999999986, 'North': 18.999999999999993, 'East': 16.999999999999986, 'West': 17.99999999999999, 'Pickup': 8.999999999999991, 'Dropoff': 8.999999999999991}, (2, 1, 4, 0): {'South': 14.999999999999982, 'North': 16.999999999999986, 'East': 14.999999999999982, 'West': 16.999999999999986, 'Pickup': 6.999999999999985, 'Dropoff': 6.999999999999985}, (3, 1, 4, 0): {'South': 3.148460324201911, 'North': 15.999999999999984, 'East': 4.261053439944005, 'West': 4.799999999999992, 'Pickup': 3.839999999999639, 'Dropoff': -4.0}, (4, 1, 4, 0): {'South': -2.4, 'North': 11.277515579559402, 'East': -2.537472, 'West': -2.4, 'Pickup': -8.8704, 'Dropoff': -7.04}, (1, 1, 4, 0): {'South': 15.999999999999984, 'North': 17.99999999999999, 'East': 16.999999999999986, 'West': 17.99999999999999, 'Pickup': 7.9999999999999885, 'Dropoff': 7.9999999999999885}, (2, 2, 4, 0): {'South': 13.99999999999998, 'North': 13.99999999999998, 'East': 13.99999999999998, 'West': 15.999999999999984, 'Pickup': 5.999999999999983, 'Dropoff': 5.999999999999983}, (3, 2, 4, 0): {'South': 5.258493569458569, 'North': 14.999999999999982, 'East': 10.457599999999983, 'West': 12.738683384596738, 'Pickup': 1.759999998799985, 'Dropoff': -0.400000000000007}, (4, 2, 4, 0): {'South': -2.64, 'North': 11.84764446844126, 'East': -2.8, 'West': -2.66553856, 'Pickup': -6.5600000000000005, 'Dropoff': -6.720000000000001}, (1, 2, 4, 0): {'South': 14.999999999999982, 'North': 12.99999999999994, 'East': 12.999999999999503, 'West': 13.99999999999996, 'Pickup': 4.999999999999925, 'Dropoff': 4.999999999999929}, (2, 3, 4, 0): {'South': 12.999999999999979, 'North': 12.999999999999979, 'East': 12.999999999999973, 'West': 14.999999999999982, 'Pickup': 4.999999999999981, 'Dropoff': 4.999999999999981}, (3, 3, 4, 0): {'South': 11.999999999873282, 'North': 13.99999999999998, 'East': 11.999999999999977, 'West': 12.999999999999972, 'Pickup': 3.9999999999999782, 'Dropoff': 3.9999999999999796}, (4, 3, 4, 0): {'South': 11.999999999999941, 'North': 12.999999999999979, 'East': 10.999999999999975, 'West': 11.999999999999977, 'Pickup': 2.9999999999999782, 'Dropoff': 10.999999999999975}, (1, 3, 4, 0): {'South': 13.999999999999915, 'North': 11.999999999999961, 'East': 11.999999999971488, 'West': 13.99999999999998, 'Pickup': 3.99999999999998, 'Dropoff': 3.9999999999999796}, (2, 4, 4, 0): {'South': 11.906819135466224, 'North': 11.944108235526693, 'East': 12.832710246397763, 'West': 13.99999999999998, 'Pickup': 3.865630719999981, 'Dropoff': 3.9709762355199794}, (3, 4, 4, 0): {'South': 9.029284938821514, 'North': 6.998536855551987, 'East': 8.575784877069296, 'West': 12.999999999999979, 'Pickup': 2.4556799999999805, 'Dropoff': -6.5600000000000005}, (4, 4, 4, 0): {'South': 1.761653429172819, 'North': 11.999999999999977, 'East': 5.456310143121809, 'West': 2.2014479086387118, 'Pickup': -8.0, 'Dropoff': -1.6843281949223092}, (1, 4, 4, 0): {'South': 12.999999999999979, 'North': 10.999999999999975, 'East': 11.999999999999975, 'West': 12.999999999999979, 'Pickup': 2.9999999999999782, 'Dropoff': 2.9999999999999774}, (0, 0, 4, 0): {'South': 17.99999999999999, 'North': 18.999999999999993, 'East': 17.99999999999999, 'West': 18.999999999999993, 'Pickup': 9.999999999999995, 'Dropoff': 19.999999999999996}, (0, 1, 4, 0): {'South': 16.999999999999986, 'North': 17.99999999999999, 'East': 17.99999999999999, 'West': 18.999999999999993, 'Pickup': 8.999999999999991, 'Dropoff': 8.999999999999991}, (0, 2, 4, 0): {'South': 13.99999999999998, 'North': 2.494928364922096, 'East': 6.240947695583219, 'West': 6.84610863923186, 'Pickup': -1.4036335627263137, 'Dropoff': -4.0}, (0, 3, 4, 0): {'South': 12.999999999999979, 'North': 2.399999966485453, 'East': -4.283903246336, 'West': 6.881439160468673, 'Pickup': 1.4879999441424163, 'Dropoff': -1.2000000072391486}, (0, 4, 4, 0): {'South': 11.999999999999977, 'North': 10.999999999999964, 'East': 10.999999999999917, 'West': 11.99999999999979, 'Pickup': 1.9999999999999767, 'Dropoff': 9.999999999999973}, (4, 3, 3, 0): {'South': 10.999999999999975, 'North': 9.999999999999973, 'East': 9.999999999999973, 'West': 10.999999999999975, 'Pickup': 11.999999999999977, 'Dropoff': 1.9999999999999767}, (3, 3, 3, 0): {'South': 10.999999999999975, 'North': 8.999999999998755, 'East': 8.999999999999972, 'West': 9.999999999999865, 'Pickup': 0.9999999999999546, 'Dropoff': 0.9999999999999742}, (4, 4, 3, 0): {'South': 9.563299839899305, 'North': 5.789812246856996, 'East': 9.245067474502966, 'West': 10.999999999999975, 'Pickup': -1.6638455398617538, 'Dropoff': 0.24523951098487962}, (3, 4, 3, 0): {'South': 9.252659332452435, 'North': 7.948648710138831, 'East': 8.988126580386684, 'West': 9.999999999999973, 'Pickup': -0.001237659457752889, 'Dropoff': -0.004327330963195229}, (2, 3, 3, 0): {'South': 9.999999999999973, 'North': 7.999999999999935, 'East': 7.999999999999272, 'West': 7.999999999999271, 'Pickup': -3.413367256547607e-13, 'Dropoff': -9.026106779895752e-12}, (2, 4, 3, 0): {'South': 8.999999999999972, 'North': 6.969774181756365, 'East': 7.947959865190831, 'West': 8.567946629664187, 'Pickup': -1.1959552000342673, 'Dropoff': -1.1674331394976183}, (0, 0, 0, 0): {'South': 0.0, 'North': 0.0, 'East': 0.0, 'West': 0.0, 'Pickup': 0.0, 'Dropoff': 0.0}, (1, 4, 3, 0): {'South': 7.999999999999971, 'North': 5.8638435788122205, 'East': 6.337484799999972, 'West': 7.57347624886709, 'Pickup': -3.8420480000000894, 'Dropoff': -3.296000000000023}, (1, 3, 3, 0): {'South': 8.999999999999972, 'North': 6.949480231998734, 'East': 6.3429564293961125, 'West': 3.9598003766308385, 'Pickup': -2.7163092218176867, 'Dropoff': -1.7754353615726266}, (2, 2, 3, 0): {'South': 6.999643778398964, 'North': 6.999999980577362, 'East': 8.999999999999972, 'West': 6.999999999105899, 'Pickup': -1.0000000001503035, 'Dropoff': -1.000000001507973}, (3, 2, 3, 0): {'South': 4.67529644336641, 'North': 7.999999999999971, 'East': 5.980134399999972, 'West': 5.999999999999969, 'Pickup': -2.1600820645627166, 'Dropoff': -3.031040000387043}, (4, 2, 3, 0): {'South': 4.727812346972512, 'North': 6.99999999999997, 'East': 5.544186965135739, 'West': 1.954695805170553, 'Pickup': -5.079006577476103, 'Dropoff': -3.293142143589925}, (1, 2, 3, 0): {'South': 7.999999999999971, 'North': 4.967885642124031, 'East': 6.03035207733842, 'West': 5.89580749151749, 'Pickup': -2.4232560575044495, 'Dropoff': -2.1679616085405815}, (0, 4, 3, 0): {'South': 6.99999999999997, 'North': 1.1039999999999806, 'East': 2.1580767223438118, 'West': 1.6451341420382168, 'Pickup': -3.136275895562996, 'Dropoff': -4.097748483870038}, (0, 3, 3, 0): {'South': 7.999999999999971, 'North': -1.8957056004213646, 'East': 3.188979565834061, 'West': 1.1039652258708172, 'Pickup': -2.1394897641725006, 'Dropoff': -4.07736934400002}, (0, 2, 3, 0): {'South': 6.99999999999997, 'North': -2.1600000000000126, 'East': 3.8077653819130206, 'West': 5.36547839963505, 'Pickup': -7.704330952704012, 'Dropoff': -6.452378038639019}, (2, 1, 3, 0): {'South': 5.999998266483134, 'North': 5.999998213985566, 'East': 7.999999999999971, 'West': 5.999999605561395, 'Pickup': -2.000000171908645, 'Dropoff': -2.0000038724340077}, (3, 1, 3, 0): {'South': 4.632672215139326, 'North': 6.99999999999997, 'East': 6.071209058878987, 'West': 5.918733218365641, 'Pickup': -3.1312787865600487, 'Dropoff': -3.006530347898532}, (4, 1, 3, 0): {'South': -0.10671506511257789, 'North': -2.2496446700592507, 'East': 5.999999999999969, 'West': -7.827097600000002, 'Pickup': -7.173238944276525, 'Dropoff': -5.666641839300077}, (1, 1, 3, 0): {'South': 6.99999999999997, 'North': 4.778801917188871, 'East': 4.144568792759984, 'West': 3.985603928140433, 'Pickup': -3.1309225186726013, 'Dropoff': -3.25806358982158}, (2, 0, 3, 0): {'South': 4.989696071640369, 'North': 4.999209216445972, 'East': 6.99999999999997, 'West': 5.989147071741861, 'Pickup': -3.050388480000031, 'Dropoff': -3.0502526436286885}, (3, 0, 3, 0): {'South': 3.6471700454293194, 'North': 5.999999999999969, 'East': 4.864958873599969, 'West': 4.628249429414305, 'Pickup': -4.21051187200003, 'Dropoff': -5.036800000000026}, (4, 0, 3, 0): {'South': -3.9511040089750535, 'North': 4.999999999999968, 'East': -0.6944000000000212, 'West': -3.920000000000014, 'Pickup': -6.831579884854911, 'Dropoff': -5.60727122799579}, (1, 0, 3, 0): {'South': 5.999999999999969, 'North': 3.661622069233553, 'East': 5.856886466423337, 'West': 3.9655561611082386, 'Pickup': -4.18662409910056, 'Dropoff': -4.186624165167579}, (0, 1, 3, 0): {'South': 5.999999999999969, 'North': 2.0768358914410125, 'East': 0.04782357728409892, 'West': 1.2966156610673067, 'Pickup': -6.578176000157044, 'Dropoff': -6.880000009348841}, (0, 0, 3, 0): {'South': 4.999999999999968, 'North': 2.361855999998939, 'East': 4.353454925622126, 'West': -8.800000000000002, 'Pickup': -8.008452674199038, 'Dropoff': -6.182543933954069}, (0, 4, 1, 0): {'South': 8.999999999999972, 'North': 9.999999999999973, 'East': 9.999999999999973, 'West': 8.999999999999972, 'Pickup': 10.999999999999975, 'Dropoff': 0.9999999999983707}, (1, 4, 1, 0): {'South': 7.999999999997675, 'North': 9.999999999999973, 'East': 8.999999999999972, 'West': 7.9999999999999405, 'Pickup': -1.260787412284594e-13, 'Dropoff': -2.7376705602419413e-14}, (2, 4, 1, 0): {'South': 5.136318397732716, 'North': 8.999999999999972, 'East': 6.8491519999999735, 'West': 6.982138378598033, 'Pickup': -1.002741396722379, 'Dropoff': -1.0089335147069722}, (3, 4, 1, 0): {'South': 5.867087084581541, 'North': 7.999999999999971, 'East': 6.601765786911029, 'West': 4.957494246662308, 'Pickup': -2.414312695154081, 'Dropoff': -2.167961600001012}, (4, 4, 1, 0): {'South': 5.1971034975647825, 'North': 6.99999999999997, 'East': 3.0623999999999763, 'West': 0.32661293263370084, 'Pickup': -3.6735614226396414, 'Dropoff': -6.032384448466324}, (0, 3, 1, 0): {'South': 7.603077669077364, 'North': 8.99298509512677, 'East': 9.999999999999973, 'West': 7.910340711602256, 'Pickup': -0.00857331733161751, 'Dropoff': -0.2558403816691867}, (1, 3, 1, 0): {'South': 6.999999999934898, 'North': 8.999999999990766, 'East': 8.999999999999972, 'West': 6.999999999994865, 'Pickup': -1.000000000000038, 'Dropoff': -1.0000000000058666}, (2, 3, 1, 0): {'South': 5.970556202199728, 'North': 7.999999999999971, 'East': 7.748008197927548, 'West': 5.989546085654661, 'Pickup': -2.048588249074607, 'Dropoff': -2.033597958057621}, (3, 3, 1, 0): {'South': 4.6425512143893535, 'North': 6.99999999999997, 'East': 6.3255881395999705, 'West': 5.7761397237931345, 'Pickup': -3.5620154290851547, 'Dropoff': -3.2332800000000286}, (4, 3, 1, 0): {'South': 2.191999999995062, 'North': 5.999999999999969, 'East': -2.3952287559372376, 'West': -2.9254937358527586, 'Pickup': -4.754940867888569, 'Dropoff': -6.400000000000013}, (0, 2, 1, 0): {'South': -1.191849081667459, 'North': 4.900548607999978, 'East': 8.999999999999972, 'West': 4.830571519819907, 'Pickup': -3.139124826661916, 'Dropoff': -1.7969645161233814}, (1, 2, 1, 0): {'South': 5.999999999810523, 'North': 7.999999966439813, 'East': 7.999999999999971, 'West': 6.999999999117075, 'Pickup': -2.0000000000417724, 'Dropoff': -2.0000000009930194}, (2, 2, 1, 0): {'South': 4.999999918663022, 'North': 6.99999999999997, 'East': 6.9999993024989955, 'West': 4.999999982839099, 'Pickup': -3.000000058529347, 'Dropoff': -3.0000005125078415}, (3, 2, 1, 0): {'South': -0.49213077222324975, 'North': 5.999999999999969, 'East': 3.2541893659038337, 'West': 2.4063614691381927, 'Pickup': -4.303406321552665, 'Dropoff': -4.03073578191799}, (4, 2, 1, 0): {'South': 1.252207484996776, 'North': 4.999999999999968, 'East': -5.810320968869624, 'West': -8.880958598451697, 'Pickup': -8.238955546156385, 'Dropoff': -6.512000000000025}, (3, 1, 1, 0): {'South': 1.4661043961298703, 'North': 4.999999999999968, 'East': 3.961599056839589, 'West': 1.298378562234884, 'Pickup': -5.544320000000029, 'Dropoff': -5.326592000000058}, (4, 1, 1, 0): {'South': 1.470719999999729, 'North': 3.9999999999999676, 'East': 1.2114653625641159, 'West': 0.8574298401855809, 'Pickup': -6.466601453100393, 'Dropoff': -8.777913952820793}, (2, 1, 1, 0): {'South': 3.999999414231342, 'North': 3.9725482446534204, 'East': 5.999999999999969, 'West': 3.999899101417015, 'Pickup': -4.000000007484712, 'Dropoff': -4.000004041244667}, (1, 1, 1, 0): {'South': 4.999999999999968, 'North': 2.984038662270883, 'East': 3.9832813059059022, 'West': 2.996249842839057, 'Pickup': -5.003595845631267, 'Dropoff': -5.1096265172830835}, (2, 0, 1, 0): {'South': 2.9838876211355574, 'North': 1.4221927504970369, 'East': 4.999999999999968, 'West': 3.6305938493034446, 'Pickup': -5.015237482098611, 'Dropoff': -5.26687232000062}, (3, 0, 1, 0): {'South': -0.52219412972658, 'North': 3.9999999999999676, 'East': 2.020223994820876, 'West': 1.3447825962511262, 'Pickup': -6.607133287144868, 'Dropoff': -7.109376000000028}, (4, 0, 1, 0): {'South': -2.320032971607727, 'North': 2.999999999999967, 'East': 1.6561086253080661, 'West': -0.5616048268667457, 'Pickup': -8.258560015559016, 'Dropoff': -7.688346012364101}, (1, 0, 1, 0): {'South': 1.0948852165374476, 'North': -3.8373204321289247, 'East': 3.9999999999999676, 'West': 0.9464650014522835, 'Pickup': -8.858623610180938, 'Dropoff': -9.486921370772237}, (0, 0, 1, 0): {'South': 2.0263976304788196, 'North': -2.162083840000022, 'East': 2.999999999999967, 'West': -9.600000000000003, 'Pickup': -7.56702599324659, 'Dropoff': -7.341168498531277}, (0, 1, 1, 0): {'South': 3.9999999999999676, 'North': 2.6502872656750722, 'East': 2.7883676040468646, 'West': -0.47305136871857423, 'Pickup': -6.104703903801891, 'Dropoff': -6.052403168170361}, (3, 4, 0, 1): {'South': 1.7928803031712286, 'North': 3.9999999999999676, 'East': 2.6595306751917764, 'West': 3.866396749117135, 'Pickup': -6.114635862276101, 'Dropoff': -6.088750245145161}, (4, 4, 0, 1): {'South': 1.6751946413474437, 'North': 2.999999999999967, 'East': -0.5483199025536865, 'West': -1.6185387081659073, 'Pickup': -7.972478982631886, 'Dropoff': -7.886021983521252}, (2, 4, 0, 1): {'South': 2.968945680843329, 'North': 2.9967301306872254, 'East': 3.997901094228821, 'West': 4.999999999999968, 'Pickup': -5.007052774768698, 'Dropoff': -5.001166636814267}, (3, 3, 0, 1): {'South': 1.460364340637582, 'North': 4.999999999999968, 'East': -4.2808472584028285, 'West': 3.3067420592340033, 'Pickup': -5.057375043318885, 'Dropoff': -5.54232934400003}, (4, 3, 0, 1): {'South': -1.5360000000000236, 'North': 3.9999999999999676, 'East': -0.463378612139246, 'West': 0.27839999001044347, 'Pickup': -6.718898002980247, 'Dropoff': -8.855911342971648}, (2, 3, 0, 1): {'South': 3.9999999347988675, 'North': 3.9999872049838654, 'East': 3.999733897264277, 'West': 5.999999999999969, 'Pickup': -4.000001205280659, 'Dropoff': -4.000105297484077}, (1, 4, 0, 1): {'South': 3.9999999999999676, 'North': 1.8870276254487646, 'East': 2.8015684614690337, 'West': 2.332907417497478, 'Pickup': -6.164357012883528, 'Dropoff': -6.585461101293949}, (1, 3, 0, 1): {'South': 4.999999999999968, 'North': 2.455181159719005, 'East': 2.9281321716700806, 'West': 4.852618613154846, 'Pickup': -5.212188488827929, 'Dropoff': -5.079450604031256}, (2, 2, 0, 1): {'South': 4.999999325302149, 'North': 4.999999999205745, 'East': 4.999999952555563, 'West': 6.99999999999997, 'Pickup': -3.000000001952253, 'Dropoff': -3.0000000058394507}, (2, 1, 0, 1): {'South': 5.999999999999918, 'North': 7.999999999999971, 'East': 5.999999999995051, 'West': 7.999999999863214, 'Pickup': -2.0000000000291505, 'Dropoff': -2.0000000000063145}, (3, 1, 0, 1): {'South': 4.954483442753582, 'North': 6.99999999999997, 'East': 4.925675905234156, 'West': 5.9961632885951195, 'Pickup': -3.0023509249231064, 'Dropoff': -3.0005260499048316}, (4, 1, 0, 1): {'South': 3.3178763197523393, 'North': 5.999999999999969, 'East': 3.879985307818115, 'West': 4.952341711671635, 'Pickup': -4.469665159733933, 'Dropoff': -4.078399216470551}, (1, 1, 0, 1): {'South': 6.999999999999831, 'North': 8.999999999997538, 'East': 7.999999999985306, 'West': 8.999999999999972, 'Pickup': -1.0000000000020486, 'Dropoff': -1.0000000000000888}, (3, 2, 0, 1): {'South': 2.5056453611212803, 'North': 1.1595489922254631, 'East': -2.560000000000014, 'West': 5.999999999999969, 'Pickup': -10.951936, 'Dropoff': -4.64357192307602}, (4, 2, 0, 1): {'South': -0.30537810024859713, 'North': 0.4607496861330431, 'East': -7.841669464415904, 'West': 4.999999999999968, 'Pickup': -8.91200000112702, 'Dropoff': -6.08699174282256}, (1, 2, 0, 1): {'South': 5.999999999999969, 'North': 3.955340602469756, 'East': 3.4214188058729653, 'West': 4.774931455999969, 'Pickup': -4.103351557857278, 'Dropoff': -4.2607480789360155}, (0, 4, 0, 1): {'South': 2.999999999999967, 'North': 1.4722749984318944, 'East': 1.1282935481390384, 'West': 2.431588335743033, 'Pickup': -10.559999999999999, 'Dropoff': -7.267284564791819}, (0, 3, 0, 1): {'South': 3.9999999999999676, 'North': -1.2210393214756956, 'East': -2.0230985439348688, 'West': 2.350418842878207, 'Pickup': -7.2141792632893615, 'Dropoff': -8.376002118472805}, (0, 2, 0, 1): {'South': 4.999999999999968, 'North': 3.4028022131968227, 'East': 0.5109696860307027, 'West': 1.235036810746701, 'Pickup': -5.070644748771307, 'Dropoff': -5.782784000000028}, (2, 0, 0, 1): {'South': 6.951215712118943, 'North': 8.999999999999972, 'East': 6.778918036254231, 'West': 7.948592635282502, 'Pickup': -1.0260678917570238, 'Dropoff': -1.1080429817855275}, (3, 0, 0, 1): {'South': 5.402255683183124, 'North': 7.999999999999971, 'East': 5.92690395089674, 'West': 6.29041713029911, 'Pickup': -2.060466176001812, 'Dropoff': -5.600000010512899}, (4, 0, 0, 1): {'South': 3.094741747405824, 'North': 6.99999999999997, 'East': 1.2479999999999802, 'West': -1.9200000000000133, 'Pickup': -8.0, 'Dropoff': -11.1936}, (1, 0, 0, 1): {'South': 7.999999999999971, 'North': 9.999999999999973, 'East': 7.99999999999996, 'West': 8.999999999999972, 'Pickup': -3.008260503997058e-14, 'Dropoff': -2.6646420204354294e-14}, (0, 1, 0, 1): {'South': 7.369366968926655, 'North': 7.860512701146149, 'East': 8.294301583014708, 'West': 9.999999999999973, 'Pickup': -2.424006083088834, 'Dropoff': -0.22394880000003292}, (0, 0, 0, 1): {'South': 8.999999999999972, 'North': 9.999999999999973, 'East': 8.99999999999997, 'West': 9.999999999999963, 'Pickup': 10.999999999999975, 'Dropoff': 0.999999999999975}, (2, 2, 3, 1): {'South': 8.999999146463386, 'North': 8.99999997741812, 'East': 10.999999999999975, 'West': 8.999999842198081, 'Pickup': 0.9999999930376252, 'Dropoff': 0.999999998117776}, (3, 2, 3, 1): {'South': 7.8523560532456615, 'North': 9.999999999999973, 'East': 8.840772403199974, 'West': 6.0878357265518375, 'Pickup': -0.5116951940746959, 'Dropoff': -1.8470101464054247}, (4, 2, 3, 1): {'South': 4.716799995121596, 'North': 8.999999999999972, 'East': 7.228543705721548, 'West': 6.492627349935147, 'Pickup': -4.489007337570323, 'Dropoff': -1.2438981591335252}, (1, 2, 3, 1): {'South': 9.83694574974734, 'North': 7.720835260730145, 'East': 9.999999999999973, 'West': 7.004159999999977, 'Pickup': -0.014989839590085857, 'Dropoff': -0.6470001056118118}, (1, 3, 3, 1): {'South': 10.999999999999975, 'North': 8.986303435635804, 'East': 8.99909816126208, 'West': 8.747431004269801, 'Pickup': 0.7787654594559759, 'Dropoff': 0.9974610010832645}, (1, 4, 3, 1): {'South': 9.999999999999973, 'North': 7.722468319833333, 'East': 3.608294399999983, 'West': 9.552065178938143, 'Pickup': -5.951114038567019, 'Dropoff': -0.32025669082852837}, (2, 1, 3, 1): {'South': 7.999999843235745, 'North': 7.999999725141916, 'East': 9.999999999999973, 'West': 7.999958886942322, 'Pickup': -3.903359882115685e-06, 'Dropoff': -4.788329433131225e-06}, (3, 1, 3, 1): {'South': 4.004379898448652, 'North': 8.999999999999972, 'East': 8.84143961054298, 'West': 7.298547670010261, 'Pickup': -1.8051512893388832, 'Dropoff': -1.09671900923597}, (4, 1, 3, 1): {'South': 5.174312134797022, 'North': 7.999999999999971, 'East': 2.5071345532380755, 'West': -1.520000000000013, 'Pickup': -2.928650750640113, 'Dropoff': -2.730255225834112}, (0, 2, 3, 1): {'South': 8.999999999999972, 'North': 6.154495999999975, 'East': 7.812840788137076, 'West': 4.9310090404013955, 'Pickup': -5.220948520639531, 'Dropoff': -1.9072000020469426}, (0, 3, 3, 1): {'South': 9.999999999999973, 'North': 5.673599999999954, 'East': -0.7032011750669138, 'West': 2.7579571153033013, 'Pickup': -4.511522979840011, 'Dropoff': -0.3210119079893218}, (0, 4, 3, 1): {'South': 8.999999999999972, 'North': -0.8127281563419428, 'East': -7.066959669065422, 'West': 3.3175530394068344, 'Pickup': -3.586474933491606, 'Dropoff': -1.8410606734397796}, (1, 1, 3, 1): {'South': 8.999999999999972, 'North': 6.987995802386409, 'East': 7.980077559836609, 'West': 6.946608130379274, 'Pickup': -1.0152374763520282, 'Dropoff': -1.0138605852500553}, (2, 0, 3, 1): {'South': 6.349347529169313, 'North': 6.856464469914419, 'East': 8.999999999999972, 'West': 7.7446983679999715, 'Pickup': -1.1740171077038801, 'Dropoff': -1.094210752518596}, (3, 0, 3, 1): {'South': -2.0926128427662345, 'North': 7.999999999999971, 'East': 6.758866909855715, 'West': 5.8852121828588775, 'Pickup': -3.2278195154472042, 'Dropoff': -2.777600138438113}, (4, 0, 3, 1): {'South': 2.950312171310051, 'North': 6.99999999999997, 'East': 0.873599944774988, 'West': -2.4000000000000465, 'Pickup': -6.646556154289879, 'Dropoff': -3.920730499448858}, (1, 0, 3, 1): {'South': 5.996692049640975, 'North': 5.615311933003263, 'East': 7.999999999999971, 'West': 5.081423818416248, 'Pickup': -3.914560459419325, 'Dropoff': -2.0558551534888427}, (0, 1, 3, 1): {'South': 7.999999999999971, 'North': -7.840000000000002, 'East': 5.107839998737714, 'West': 1.048211266078018, 'Pickup': -2.466617540366355, 'Dropoff': -5.485066970451328}, (0, 0, 3, 1): {'South': 6.99999999999997, 'North': 5.212363195825054, 'East': -2.0311475767196354, 'West': 2.975999970523744, 'Pickup': -6.000000000185669, 'Dropoff': -3.1592014176245926}})\n"
     ]
    }
   ],
   "source": [
    "print(Q_qlearning_1)"
   ]
  },
  {
   "cell_type": "code",
   "execution_count": 24,
   "id": "b8dc0c65",
   "metadata": {
    "scrolled": true
   },
   "outputs": [
    {
     "name": "stdout",
     "output_type": "stream",
     "text": [
      "--------  Q-learning, alpha=0.4  --------\n"
     ]
    },
    {
     "name": "stderr",
     "output_type": "stream",
     "text": [
      "100%|██████████████████████████████████████████████████████████████████████████| 10000/10000 [00:04<00:00, 2186.01it/s]\n"
     ]
    },
    {
     "name": "stdout",
     "output_type": "stream",
     "text": [
      "The sum of rewards per episode: 7.8771\n",
      "The percentage of episodes that cannot terminate within 1000 steps: 0.0\n",
      "--------  Q-learning, alpha=0.1  --------\n"
     ]
    },
    {
     "name": "stderr",
     "output_type": "stream",
     "text": [
      "100%|██████████████████████████████████████████████████████████████████████████| 10000/10000 [00:04<00:00, 2145.54it/s]"
     ]
    },
    {
     "name": "stdout",
     "output_type": "stream",
     "text": [
      "The sum of rewards per episode: 7.8886\n",
      "The percentage of episodes that cannot terminate within 1000 steps: 0.0\n"
     ]
    },
    {
     "name": "stderr",
     "output_type": "stream",
     "text": [
      "\n"
     ]
    }
   ],
   "source": [
    "# Compare their performance in 10000 new episodes: Do you find a big difference?\n",
    "from env_taxi import performance_evaluation\n",
    "\n",
    "print('--------  Q-learning, alpha=0.4  --------')\n",
    "performance_evaluation(env,pi_qlearning_1)\n",
    "\n",
    "print('--------  Q-learning, alpha=0.1  --------')\n",
    "performance_evaluation(env,pi_qlearning_2)"
   ]
  },
  {
   "cell_type": "markdown",
   "id": "ae15102e",
   "metadata": {},
   "source": [
    "Commment on the similarities or/and differences."
   ]
  },
  {
   "cell_type": "markdown",
   "id": "edaf5c6a",
   "metadata": {},
   "source": [
    "Answer: The difference between the average total rewards is relatively small. The result is just slightly better for the case of aplha=0.1. It may seem that in the Taxi Problem the scope of state-action pairs is limited to such extent that the optimal policy can be found in a comparable number of episodes for different values of alpha."
   ]
  },
  {
   "cell_type": "markdown",
   "id": "f09c8b83",
   "metadata": {},
   "source": [
    "**Exercise 4**: Follow the steps below to find the optimal $\\varepsilon$-soft policy by using Sarsa with 50000 episodes and the exploration probability $\\varepsilon=0.1$. Try two different values of the step-size parameter $\\alpha=0.4$ and $\\alpha=0.1$. Compare their performance, and comment on the similarties or/and differences with that of Q-learning.\n",
    "\n",
    "Follow the instructions below to complete the exercise."
   ]
  },
  {
   "cell_type": "code",
   "execution_count": 25,
   "id": "d2707f7d",
   "metadata": {},
   "outputs": [
    {
     "name": "stderr",
     "output_type": "stream",
     "text": [
      "100%|███████████████████████████████████████████████████████████████████████████| 50000/50000 [01:13<00:00, 679.42it/s]\n",
      "100%|███████████████████████████████████████████████████████████████████████████| 50000/50000 [01:10<00:00, 713.51it/s]\n"
     ]
    }
   ],
   "source": [
    "np.random.seed(GroupNumber)\n",
    "\n",
    "## Start Coding Here\n",
    "def sarsa(env, gamma, n_episode, alpha, epsilon = 0.1):\n",
    "    \"\"\"\n",
    "    Obtain the optimal policy with on-policy SARSA algorithm\n",
    "    @param env: game environment\n",
    "    @param gamma: discount factor\n",
    "    @param n_episode: number of episodes\n",
    "    @param alpha: step-size parameter\n",
    "    @param epsilon: exploring probability\n",
    "    @@return: the optimal Q-function, the optimal epsilon-greedy policy (as a function), length of episode and the sum of rewards per episode\n",
    "    \"\"\"    \n",
    "    Q = defaultdict(lambda: dict(zip(env.action_space, np.zeros(len(env.action_space)))))   \n",
    "    pi = gen_epsilon_greedy_policy(env.action_space, Q, epsilon)\n",
    "    \n",
    "    for episode in tqdm(range(n_episode)):\n",
    "        state = env.reset()\n",
    "        is_done = False\n",
    "        action = pi(state)\n",
    "        while not is_done:\n",
    "            next_state, reward, is_done = env.step(action)\n",
    "            next_action = pi(next_state)\n",
    "            td_delta = reward + gamma * Q[next_state][next_action] - Q[state][action]\n",
    "            Q[state][action] += alpha * td_delta\n",
    "\n",
    "            if is_done:\n",
    "                break\n",
    "            state = next_state\n",
    "            action = next_action\n",
    "        \n",
    "    return Q, pi\n",
    "\n",
    "n_episode = 50000\n",
    "epsilon = 0.1\n",
    "gamma = 1\n",
    "\n",
    "# Save the policy for alpha=0.4 in a Python function pi_sarsa_1\n",
    "alpha = 0.4\n",
    "Q_sarsa_1, pi_sarsa_1 = sarsa(env, gamma, n_episode, alpha, epsilon)\n",
    "# Save the policy for alpha=0.1 in a Python function pi_sarsa_2\n",
    "alpha = 0.1\n",
    "Q_sarsa_2, pi_sarsa_2 = sarsa(env, gamma, n_episode, alpha, epsilon)\n",
    "\n",
    "# End Coding Here\n",
    "\n"
   ]
  },
  {
   "cell_type": "code",
   "execution_count": 26,
   "id": "bfeb7d28",
   "metadata": {},
   "outputs": [
    {
     "name": "stdout",
     "output_type": "stream",
     "text": [
      "--------  Sarsa, alpha=0.4  --------\n"
     ]
    },
    {
     "name": "stderr",
     "output_type": "stream",
     "text": [
      "100%|███████████████████████████████████████████████████████████████████████████| 10000/10000 [00:22<00:00, 447.15it/s]\n"
     ]
    },
    {
     "name": "stdout",
     "output_type": "stream",
     "text": [
      "The sum of rewards per episode: -15.0227\n",
      "The percentage of episodes that cannot terminate within 1000 steps: 0.0\n",
      "--------  Sarsa, alpha=0.1  --------\n"
     ]
    },
    {
     "name": "stderr",
     "output_type": "stream",
     "text": [
      "100%|███████████████████████████████████████████████████████████████████████████| 10000/10000 [00:11<00:00, 855.03it/s]"
     ]
    },
    {
     "name": "stdout",
     "output_type": "stream",
     "text": [
      "The sum of rewards per episode: 2.3437\n",
      "The percentage of episodes that cannot terminate within 1000 steps: 0.0\n"
     ]
    },
    {
     "name": "stderr",
     "output_type": "stream",
     "text": [
      "\n"
     ]
    }
   ],
   "source": [
    "from env_taxi import performance_evaluation\n",
    "\n",
    "print('--------  Sarsa, alpha=0.4  --------')\n",
    "performance_evaluation(env,pi_sarsa_1)\n",
    "\n",
    "print('--------  Sarsa, alpha=0.1  --------')\n",
    "performance_evaluation(env,pi_sarsa_2)"
   ]
  },
  {
   "cell_type": "markdown",
   "id": "33fbcf90",
   "metadata": {},
   "source": [
    "Compare their performance, and comment on the similarties or/and differences with that of Q-learning."
   ]
  },
  {
   "cell_type": "markdown",
   "id": "d28c0e08",
   "metadata": {},
   "source": [
    "Answer: In case of Sarsa we can notice a significant difference in performance between different alphas with alpha=0.1 being better. For alpha=0.4, Sarsa seemingly adjusts the state-action values too abruptly leading to non-optimal policies which gives such a bad result especially considering that we look only at the first 50000 episodes. These Sarsa outcomes are much worse than both Q-learning results."
   ]
  },
  {
   "cell_type": "markdown",
   "id": "f58e19d0",
   "metadata": {},
   "source": [
    "**Exercise 5**: Do you expect double Q-learning will improve Q-learning substantially? Motivate your answer. You do not need to implement the double Q-learning algorithm."
   ]
  },
  {
   "cell_type": "markdown",
   "id": "61f0ed7a",
   "metadata": {},
   "source": [
    "Answer: We would not expect a considerable change. The state-action space is rather limited. Hence, there are no significant options for some state-action pairs to give similar Q-values and hence misleading the algorithm in the search for the optimal policy.\n",
    "\n",
    "Furthermore, looking at the Q-values, they are not overestimated relative to the rewards. Double Q-learning is much better than regular Q-learning when these values are overestiamted. "
   ]
  },
  {
   "cell_type": "markdown",
   "id": "40951dca",
   "metadata": {},
   "source": [
    "**Exercise 6** \n",
    "Follow the steps below to investigate whether we can solve the optimal policy by using off-policy Monte Carlo control with weighted importance sampling. Use the optimal $\\varepsilon$-soft policy found by Sarsa above with $\\alpha=0.1$ as the behavior policy and use no more than 50000 episodes."
   ]
  },
  {
   "cell_type": "code",
   "execution_count": 27,
   "id": "8f28f3a4",
   "metadata": {},
   "outputs": [
    {
     "ename": "SyntaxError",
     "evalue": "invalid syntax (1182042131.py, line 32)",
     "output_type": "error",
     "traceback": [
      "\u001b[1;36m  Input \u001b[1;32mIn [27]\u001b[1;36m\u001b[0m\n\u001b[1;33m    if pi_opt(states[t]) == actions[t]\u001b[0m\n\u001b[1;37m                                      ^\u001b[0m\n\u001b[1;31mSyntaxError\u001b[0m\u001b[1;31m:\u001b[0m invalid syntax\n"
     ]
    }
   ],
   "source": [
    "np.random.seed(GroupNumber)\n",
    "\n",
    "## Start Coding Here\n",
    "def mc_control_off_policy_WIS(env, b, Q_b, gamma, n_episode):\n",
    "    \"\"\"\n",
    "    Obtain the optimal policy using on-policy MC control method with exploring starts\n",
    "    @param env: game environment\n",
    "    @param gamma: discount factor\n",
    "    @param n_episode: number of episodes\n",
    "    @return: the optimal Q-function, and the optimal policy (as a dictionary)\n",
    "    \n",
    "    \"\"\"\n",
    "    Q = defaultdict(lambda: dict(zip(env.action_space, np.zeros(len(env.action_space))))) \n",
    "    C = defaultdict(lambda: dict(zip(env.action_space, np.zeros(len(env.action_space))))) \n",
    "    pi = defaultdict(lambda: np.random.choice(env.action_space))\n",
    "    \n",
    "    for episode in tqdm(range(n_episode)):\n",
    "        states_t, actions_t, rewards_t = simulate_episode(env,b)\n",
    "        G = 0\n",
    "        W = 1\n",
    "        for state_t, action_t, reward_t in zip(states_t[::-1][1:], actions_t[::-1], rewards_t[::-1]):\n",
    "            G = gamma * G + reward_t\n",
    "            C[(state_t, action_t)] = C[(state_t, action_t)] + W\n",
    "            Q[(state_t, action_t)] = Q[(state_t, action_t)] + W/C[(state_t, action_t)]*(G-Q[(state_t, action_t)])\n",
    "            \n",
    "            # Update Target Policy\n",
    "            pi[state_t]=max(Q[state_t],key=Q[state_t].get)\n",
    "            \n",
    "            if not pi[state_t] == action_t:\n",
    "                break\n",
    "            \n",
    "            b_AS\n",
    "            if pi_opt(states[t]) == actions[t]\n",
    "            W = W/(1-(len(env.action_space)-1)*epsilon/len(env.action_space)) if pi_opt(states[t]) == actions[t] else W/(epsilon/6)\n",
    "    \n",
    "    \n",
    "    \n",
    "    \n",
    "    \n",
    "\n",
    "# Save your optimal policy as a dictionary/defaultdict Python object pi_wis\n",
    "\n",
    "\n",
    "\n",
    "\n",
    "\n",
    "\n",
    "## End Coding Here"
   ]
  },
  {
   "cell_type": "code",
   "execution_count": null,
   "id": "08014d3b",
   "metadata": {},
   "outputs": [],
   "source": [
    "x = np.array([[1,2,3],[4,5,6]])\n",
    "x[::-1][1:]\n",
    "states_t, actions_t, rewards_t = simulate_episode(env,naive_policy)\n",
    "print(len(states_t),len(actions_t))"
   ]
  },
  {
   "cell_type": "markdown",
   "id": "c4764072",
   "metadata": {},
   "source": [
    "Check the total number of distinct states visited in your episodes. Have you reached all 400 possible states (within the episode)?"
   ]
  },
  {
   "cell_type": "code",
   "execution_count": null,
   "id": "41923c27",
   "metadata": {},
   "outputs": [],
   "source": [
    "print('Number of States Visited:', len(pi_wis))"
   ]
  },
  {
   "cell_type": "markdown",
   "id": "3a47c6b7",
   "metadata": {},
   "source": [
    "Generate a complete policy that:\n",
    "- follows your optimal policy (in this exercise) if the state is visited in your episodes (in this exercise);\n",
    "- otherwise follows the naive policy in Exercise 1.\n",
    "\n",
    "If you have reached all possible states in your episodes, it is identical to your optimal policy."
   ]
  },
  {
   "cell_type": "code",
   "execution_count": null,
   "id": "882e5d35",
   "metadata": {},
   "outputs": [],
   "source": [
    "def complete_policy(state):\n",
    "    ## Start Coding Here\n",
    "    \n",
    "    \n",
    "    \n",
    "    \n",
    "    ## End Coding Here\n",
    "    return action"
   ]
  },
  {
   "cell_type": "markdown",
   "id": "cd378c62",
   "metadata": {},
   "source": [
    "Let us evaluate its performance:"
   ]
  },
  {
   "cell_type": "code",
   "execution_count": null,
   "id": "2be0ac54",
   "metadata": {},
   "outputs": [],
   "source": [
    "performance_evaluation(env,complete_policy)"
   ]
  },
  {
   "cell_type": "markdown",
   "id": "43864646",
   "metadata": {},
   "source": [
    "**Exercise 7**: What are your conclusions from the analysis above? What are the advantages and disadvantages of these methods?"
   ]
  },
  {
   "cell_type": "markdown",
   "id": "ce3b2540",
   "metadata": {},
   "source": [
    "Answer:"
   ]
  }
 ],
 "metadata": {
  "kernelspec": {
   "display_name": "Python 3 (ipykernel)",
   "language": "python",
   "name": "python3"
  },
  "language_info": {
   "codemirror_mode": {
    "name": "ipython",
    "version": 3
   },
   "file_extension": ".py",
   "mimetype": "text/x-python",
   "name": "python",
   "nbconvert_exporter": "python",
   "pygments_lexer": "ipython3",
   "version": "3.9.12"
  }
 },
 "nbformat": 4,
 "nbformat_minor": 5
}
